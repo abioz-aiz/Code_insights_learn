{
 "cells": [
  {
   "cell_type": "code",
   "execution_count": 1,
   "id": "8366d116-8fc7-4769-8f3b-4afefa017d3e",
   "metadata": {},
   "outputs": [],
   "source": [
    "import numpy as np"
   ]
  },
  {
   "cell_type": "code",
   "execution_count": 2,
   "id": "0fa618d8-97bb-4ac3-b3aa-1ab541cdd903",
   "metadata": {},
   "outputs": [
    {
     "data": {
      "text/plain": [
       "<module 'numpy' from '/home/zoiba/anaconda3/envs/myenv/lib/python3.12/site-packages/numpy/__init__.py'>"
      ]
     },
     "execution_count": 2,
     "metadata": {},
     "output_type": "execute_result"
    }
   ],
   "source": [
    "np"
   ]
  },
  {
   "cell_type": "markdown",
   "id": "e5717d00-4d1c-4c28-88a9-be9a30a64934",
   "metadata": {},
   "source": [
    "### Single Dim Arrays - functions"
   ]
  },
  {
   "cell_type": "code",
   "execution_count": 3,
   "id": "4e6bd222-174d-48c8-be9b-db4b60d5691d",
   "metadata": {},
   "outputs": [
    {
     "data": {
      "text/plain": [
       "array([0., 0., 0., 0., 0.])"
      ]
     },
     "execution_count": 3,
     "metadata": {},
     "output_type": "execute_result"
    }
   ],
   "source": [
    "np.zeros(5)"
   ]
  },
  {
   "cell_type": "code",
   "execution_count": 4,
   "id": "c68482ab-e8ed-4204-a1a2-ac0047969b1f",
   "metadata": {},
   "outputs": [
    {
     "data": {
      "text/plain": [
       "array([1., 1., 1., 1., 1.])"
      ]
     },
     "execution_count": 4,
     "metadata": {},
     "output_type": "execute_result"
    }
   ],
   "source": [
    "np.ones(5)"
   ]
  },
  {
   "cell_type": "code",
   "execution_count": 5,
   "id": "61635c1d-89a0-4e7c-806f-d1aaf546e055",
   "metadata": {},
   "outputs": [
    {
     "data": {
      "text/plain": [
       "array([2, 2, 2, 2, 2])"
      ]
     },
     "execution_count": 5,
     "metadata": {},
     "output_type": "execute_result"
    }
   ],
   "source": [
    "np.full(5, 2)"
   ]
  },
  {
   "cell_type": "code",
   "execution_count": 6,
   "id": "584865c9-e698-4ac3-9b8c-70bdf401e77f",
   "metadata": {},
   "outputs": [
    {
     "data": {
      "text/plain": [
       "array([ 1,  2,  3,  5,  7, 12])"
      ]
     },
     "execution_count": 6,
     "metadata": {},
     "output_type": "execute_result"
    }
   ],
   "source": [
    "a = np.array([1, 2, 3, 5, 7, 12])\n",
    "a"
   ]
  },
  {
   "cell_type": "code",
   "execution_count": 7,
   "id": "d8c87075-21b1-4084-acdc-1065dea97e50",
   "metadata": {},
   "outputs": [
    {
     "data": {
      "text/plain": [
       "2"
      ]
     },
     "execution_count": 7,
     "metadata": {},
     "output_type": "execute_result"
    }
   ],
   "source": [
    "a[1]"
   ]
  },
  {
   "cell_type": "code",
   "execution_count": 8,
   "id": "7337d8e3-0574-44a4-bba5-7d575ac11472",
   "metadata": {},
   "outputs": [],
   "source": [
    "a[2] = 10"
   ]
  },
  {
   "cell_type": "code",
   "execution_count": 9,
   "id": "e6390b90-4346-4c6d-adc2-fa0dc7bcf641",
   "metadata": {},
   "outputs": [
    {
     "data": {
      "text/plain": [
       "10"
      ]
     },
     "execution_count": 9,
     "metadata": {},
     "output_type": "execute_result"
    }
   ],
   "source": [
    "a[2]"
   ]
  },
  {
   "cell_type": "code",
   "execution_count": 10,
   "id": "e7d03df7-a2ec-4c72-9d7e-9d1fadafccf9",
   "metadata": {},
   "outputs": [
    {
     "data": {
      "text/plain": [
       "array([1, 2, 3, 4, 5, 6, 7, 8, 9])"
      ]
     },
     "execution_count": 10,
     "metadata": {},
     "output_type": "execute_result"
    }
   ],
   "source": [
    "np.arange(1, 10) #10 is exclusive"
   ]
  },
  {
   "cell_type": "code",
   "execution_count": 11,
   "id": "9ab0cf1a-370e-4785-8740-333982516980",
   "metadata": {},
   "outputs": [
    {
     "name": "stdout",
     "output_type": "stream",
     "text": [
      "[0.  0.5 1. ]\n",
      "[0.         0.02040816 0.04081633 0.06122449 0.08163265 0.10204082\n",
      " 0.12244898 0.14285714 0.16326531 0.18367347 0.20408163 0.2244898\n",
      " 0.24489796 0.26530612 0.28571429 0.30612245 0.32653061 0.34693878\n",
      " 0.36734694 0.3877551  0.40816327 0.42857143 0.44897959 0.46938776\n",
      " 0.48979592 0.51020408 0.53061224 0.55102041 0.57142857 0.59183673\n",
      " 0.6122449  0.63265306 0.65306122 0.67346939 0.69387755 0.71428571\n",
      " 0.73469388 0.75510204 0.7755102  0.79591837 0.81632653 0.83673469\n",
      " 0.85714286 0.87755102 0.89795918 0.91836735 0.93877551 0.95918367\n",
      " 0.97959184 1.        ]\n"
     ]
    }
   ],
   "source": [
    "print(np.linspace(0, 1, 3))\n",
    "print(np.linspace(0, 1))"
   ]
  },
  {
   "cell_type": "code",
   "execution_count": 12,
   "id": "de61e673-aeec-4d2c-a0ca-a98373fb3c9b",
   "metadata": {},
   "outputs": [
    {
     "data": {
      "text/plain": [
       "array([[0., 0.],\n",
       "       [0., 0.],\n",
       "       [0., 0.],\n",
       "       [0., 0.],\n",
       "       [0., 0.]])"
      ]
     },
     "execution_count": 12,
     "metadata": {},
     "output_type": "execute_result"
    }
   ],
   "source": [
    "np.zeros((5, 2))"
   ]
  },
  {
   "cell_type": "markdown",
   "id": "65501d16-e19a-4c53-a6cf-a03c48e4de5b",
   "metadata": {},
   "source": [
    "### Multi Dim Array - Functions"
   ]
  },
  {
   "cell_type": "code",
   "execution_count": 13,
   "id": "1ce19a4c-9ebd-4f1e-a696-48a901ff5db9",
   "metadata": {},
   "outputs": [
    {
     "data": {
      "text/plain": [
       "array([[0., 0.],\n",
       "       [0., 0.],\n",
       "       [0., 0.],\n",
       "       [0., 0.],\n",
       "       [0., 0.]])"
      ]
     },
     "execution_count": 13,
     "metadata": {},
     "output_type": "execute_result"
    }
   ],
   "source": [
    "np.zeros((5,2))"
   ]
  },
  {
   "cell_type": "code",
   "execution_count": 14,
   "id": "9f75d0a7-70e2-4740-87ee-8c2db8820ff9",
   "metadata": {},
   "outputs": [
    {
     "data": {
      "text/plain": [
       "array([[1, 2, 3],\n",
       "       [4, 5, 6],\n",
       "       [7, 8, 9]])"
      ]
     },
     "execution_count": 14,
     "metadata": {},
     "output_type": "execute_result"
    }
   ],
   "source": [
    "n = np.array([[1, 2, 3],\n",
    "         [4, 5, 6],\n",
    "         [7, 8, 9]])\n",
    "n"
   ]
  },
  {
   "cell_type": "code",
   "execution_count": 15,
   "id": "0a210762-cf2d-4ad6-85c8-6ce5d1dad905",
   "metadata": {},
   "outputs": [
    {
     "data": {
      "text/plain": [
       "6"
      ]
     },
     "execution_count": 15,
     "metadata": {},
     "output_type": "execute_result"
    }
   ],
   "source": [
    "n[1, 2]"
   ]
  },
  {
   "cell_type": "code",
   "execution_count": 16,
   "id": "5142d459-e859-4ee0-b11f-24d859a59932",
   "metadata": {},
   "outputs": [],
   "source": [
    "n[2] = [1, 1, 1]"
   ]
  },
  {
   "cell_type": "code",
   "execution_count": 17,
   "id": "802df861-8d2c-4bcf-ab26-a7514d835533",
   "metadata": {},
   "outputs": [
    {
     "data": {
      "text/plain": [
       "array([1, 4, 1])"
      ]
     },
     "execution_count": 17,
     "metadata": {},
     "output_type": "execute_result"
    }
   ],
   "source": [
    "n[: , 0]"
   ]
  },
  {
   "cell_type": "code",
   "execution_count": 18,
   "id": "8c296730-c0a3-41d6-b924-a92e3a567056",
   "metadata": {},
   "outputs": [
    {
     "data": {
      "text/plain": [
       "array([[1, 2, 3],\n",
       "       [4, 5, 6],\n",
       "       [1, 1, 1]])"
      ]
     },
     "execution_count": 18,
     "metadata": {},
     "output_type": "execute_result"
    }
   ],
   "source": [
    "n[:]"
   ]
  },
  {
   "cell_type": "markdown",
   "id": "f2bab988-b636-4fb7-9084-0af89bcdee1a",
   "metadata": {},
   "source": [
    "### Randomly generated arrays"
   ]
  },
  {
   "cell_type": "code",
   "execution_count": 19,
   "id": "ea4a5936-72a2-48ac-8072-6f3d97a721f5",
   "metadata": {},
   "outputs": [
    {
     "data": {
      "text/plain": [
       "array([[0.32858103, 0.36729597],\n",
       "       [0.72698578, 0.94550802],\n",
       "       [0.89623979, 0.45243498],\n",
       "       [0.33441974, 0.37046512],\n",
       "       [0.38239186, 0.52770933]])"
      ]
     },
     "execution_count": 19,
     "metadata": {},
     "output_type": "execute_result"
    }
   ],
   "source": [
    "np.random.rand(5,2)"
   ]
  },
  {
   "cell_type": "code",
   "execution_count": 20,
   "id": "0be0601a-8552-41d6-aa99-fa293fba890e",
   "metadata": {},
   "outputs": [
    {
     "data": {
      "text/plain": [
       "array([[0.4359949 , 0.02592623],\n",
       "       [0.54966248, 0.43532239],\n",
       "       [0.4203678 , 0.33033482],\n",
       "       [0.20464863, 0.61927097],\n",
       "       [0.29965467, 0.26682728]])"
      ]
     },
     "execution_count": 20,
     "metadata": {},
     "output_type": "execute_result"
    }
   ],
   "source": [
    "np.random.seed(2) #helps set a randomness variable \n",
    "np.random.rand(5, 2)"
   ]
  },
  {
   "cell_type": "code",
   "execution_count": 21,
   "id": "46e88200-c058-464c-ac9e-4cc0bcd9f756",
   "metadata": {},
   "outputs": [
    {
     "data": {
      "text/plain": [
       "array([[ 0.55145404,  2.29220801],\n",
       "       [ 0.04153939, -1.11792545],\n",
       "       [ 0.53905832, -0.5961597 ],\n",
       "       [-0.0191305 ,  1.17500122],\n",
       "       [-0.74787095,  0.00902525]])"
      ]
     },
     "execution_count": 21,
     "metadata": {},
     "output_type": "execute_result"
    }
   ],
   "source": [
    "np.random.randn(5,2) # n stands for normal, also random is a module"
   ]
  },
  {
   "cell_type": "code",
   "execution_count": 22,
   "id": "8708d6e3-ff14-4951-99ae-e13be246c972",
   "metadata": {},
   "outputs": [
    {
     "data": {
      "text/plain": [
       "array([[31, 52, 50],\n",
       "       [ 4, 63, 49]])"
      ]
     },
     "execution_count": 22,
     "metadata": {},
     "output_type": "execute_result"
    }
   ],
   "source": [
    "np.random.randint(low = 0, high = 65, size = (2, 3)) \n",
    "# 2 rows, 3 columns, int stands for integer"
   ]
  },
  {
   "cell_type": "markdown",
   "id": "e4a3665f-dd0d-43d2-b6e5-08882c4517f5",
   "metadata": {},
   "source": [
    "### Element-wise Operations"
   ]
  },
  {
   "cell_type": "code",
   "execution_count": 23,
   "id": "2b8f71e3-9650-4870-a16c-5341f6b1b13a",
   "metadata": {},
   "outputs": [
    {
     "data": {
      "text/plain": [
       "array([0, 1, 2, 3, 4])"
      ]
     },
     "execution_count": 23,
     "metadata": {},
     "output_type": "execute_result"
    }
   ],
   "source": [
    "a = np.arange(5)\n",
    "a"
   ]
  },
  {
   "cell_type": "code",
   "execution_count": 24,
   "id": "21cc49c7-db23-4c06-b11d-227d359a2a93",
   "metadata": {},
   "outputs": [
    {
     "data": {
      "text/plain": [
       "array([1, 2, 3, 4, 5])"
      ]
     },
     "execution_count": 24,
     "metadata": {},
     "output_type": "execute_result"
    }
   ],
   "source": [
    "a + 1 # scalar addition"
   ]
  },
  {
   "cell_type": "code",
   "execution_count": 25,
   "id": "8c055f23-4f86-4f3d-a2ce-77e4d8032a04",
   "metadata": {},
   "outputs": [
    {
     "data": {
      "text/plain": [
       "array([0, 2, 4, 6, 8])"
      ]
     },
     "execution_count": 25,
     "metadata": {},
     "output_type": "execute_result"
    }
   ],
   "source": [
    "a * 2 # scalar multiplication"
   ]
  },
  {
   "cell_type": "code",
   "execution_count": 26,
   "id": "fb5bc77e-0952-45f6-bb31-423ee25df6d5",
   "metadata": {},
   "outputs": [
    {
     "data": {
      "text/plain": [
       "array([0. , 0.1, 0.2, 0.3, 0.4])"
      ]
     },
     "execution_count": 26,
     "metadata": {},
     "output_type": "execute_result"
    }
   ],
   "source": [
    "a / 10 # scalar division"
   ]
  },
  {
   "cell_type": "code",
   "execution_count": 27,
   "id": "68a1280d-1b1e-4be9-824f-06ea7cdef4ab",
   "metadata": {},
   "outputs": [
    {
     "data": {
      "text/plain": [
       "array([10, 12, 14, 16, 18])"
      ]
     },
     "execution_count": 27,
     "metadata": {},
     "output_type": "execute_result"
    }
   ],
   "source": [
    "b = (10 + (a*2))\n",
    "b"
   ]
  },
  {
   "cell_type": "code",
   "execution_count": 28,
   "id": "64bf77d7-4ade-43bc-9a63-4d3178dfc855",
   "metadata": {},
   "outputs": [
    {
     "data": {
      "text/plain": [
       "array([10, 13, 16, 19, 22])"
      ]
     },
     "execution_count": 28,
     "metadata": {},
     "output_type": "execute_result"
    }
   ],
   "source": [
    "a + b # array addition between equal element array"
   ]
  },
  {
   "cell_type": "code",
   "execution_count": 29,
   "id": "94ccf3f9-bd39-4e41-b8d9-e14e78bc3ac2",
   "metadata": {},
   "outputs": [],
   "source": [
    "c = [ 2, 3]"
   ]
  },
  {
   "cell_type": "markdown",
   "id": "8137b484-a5f8-4644-9062-da4e3bb140a8",
   "metadata": {},
   "source": [
    "### Comparion Operations"
   ]
  },
  {
   "cell_type": "code",
   "execution_count": 30,
   "id": "f4e2d313-668a-418c-b2c7-aad92d89f4a0",
   "metadata": {},
   "outputs": [
    {
     "name": "stdout",
     "output_type": "stream",
     "text": [
      "[0 1 2 3 4]\n"
     ]
    },
    {
     "data": {
      "text/plain": [
       "array([False, False,  True,  True,  True])"
      ]
     },
     "execution_count": 30,
     "metadata": {},
     "output_type": "execute_result"
    }
   ],
   "source": [
    "print(a)\n",
    "a>= 2"
   ]
  },
  {
   "cell_type": "code",
   "execution_count": 31,
   "id": "61fc5c0f-ca29-4976-bc72-619995649588",
   "metadata": {},
   "outputs": [
    {
     "name": "stdout",
     "output_type": "stream",
     "text": [
      "[10 12 14 16 18]\n"
     ]
    },
    {
     "data": {
      "text/plain": [
       "array([ True,  True,  True,  True,  True])"
      ]
     },
     "execution_count": 31,
     "metadata": {},
     "output_type": "execute_result"
    }
   ],
   "source": [
    "print(b)\n",
    "b > a"
   ]
  },
  {
   "cell_type": "code",
   "execution_count": 32,
   "id": "38dbc684-08fc-4619-b5e4-b5046b92e2a9",
   "metadata": {},
   "outputs": [
    {
     "data": {
      "text/plain": [
       "array([0, 1, 2, 3, 4])"
      ]
     },
     "execution_count": 32,
     "metadata": {},
     "output_type": "execute_result"
    }
   ],
   "source": [
    "a[b>a] # returns element for which this cond is true"
   ]
  },
  {
   "cell_type": "markdown",
   "id": "498cec63-5059-42c7-80e0-52750bc9533f",
   "metadata": {},
   "source": [
    "### Summarizing Operations"
   ]
  },
  {
   "cell_type": "code",
   "execution_count": 33,
   "id": "384a4bdd-f196-4e24-b5ab-de4df755cce8",
   "metadata": {},
   "outputs": [
    {
     "name": "stdout",
     "output_type": "stream",
     "text": [
      "[0 1 2 3 4]\n"
     ]
    },
    {
     "data": {
      "text/plain": [
       "0"
      ]
     },
     "execution_count": 33,
     "metadata": {},
     "output_type": "execute_result"
    }
   ],
   "source": [
    "print(a)\n",
    "a.min()"
   ]
  },
  {
   "cell_type": "code",
   "execution_count": 34,
   "id": "0a9935b0-53d8-4450-a59c-360f68799eed",
   "metadata": {},
   "outputs": [
    {
     "data": {
      "text/plain": [
       "4"
      ]
     },
     "execution_count": 34,
     "metadata": {},
     "output_type": "execute_result"
    }
   ],
   "source": [
    "a.max()"
   ]
  },
  {
   "cell_type": "code",
   "execution_count": 35,
   "id": "8009a3a5-6783-49a0-b307-252defe812f6",
   "metadata": {},
   "outputs": [
    {
     "data": {
      "text/plain": [
       "2.0"
      ]
     },
     "execution_count": 35,
     "metadata": {},
     "output_type": "execute_result"
    }
   ],
   "source": [
    "a.mean()"
   ]
  },
  {
   "cell_type": "code",
   "execution_count": 36,
   "id": "728aad71-723c-481c-8491-1f20dcfefa56",
   "metadata": {},
   "outputs": [
    {
     "data": {
      "text/plain": [
       "1.4142135623730951"
      ]
     },
     "execution_count": 36,
     "metadata": {},
     "output_type": "execute_result"
    }
   ],
   "source": [
    "a.std()"
   ]
  },
  {
   "cell_type": "markdown",
   "id": "3ab84993-a7bb-41a4-8cee-90412d454518",
   "metadata": {},
   "source": [
    "## Linear Algebra Refresher"
   ]
  },
  {
   "cell_type": "markdown",
   "id": "f11a48f3-c26f-4fdf-b9fe-e66274a45ec3",
   "metadata": {},
   "source": [
    "### Vector Operations"
   ]
  },
  {
   "cell_type": "code",
   "execution_count": 37,
   "id": "f36467ab-f277-4309-831f-acd89608ac08",
   "metadata": {},
   "outputs": [
    {
     "data": {
      "text/plain": [
       "array([2, 4, 5, 6])"
      ]
     },
     "execution_count": 37,
     "metadata": {},
     "output_type": "execute_result"
    }
   ],
   "source": [
    "u = np.array([2, 4, 5, 6])\n",
    "u"
   ]
  },
  {
   "cell_type": "code",
   "execution_count": 38,
   "id": "c6dc4b80-9314-4199-9cb9-536174d83e76",
   "metadata": {},
   "outputs": [
    {
     "data": {
      "text/plain": [
       "array([3, 4, 5, 6])"
      ]
     },
     "execution_count": 38,
     "metadata": {},
     "output_type": "execute_result"
    }
   ],
   "source": [
    "v = np.array([3, 4, 5, 6])\n",
    "v"
   ]
  },
  {
   "cell_type": "code",
   "execution_count": 39,
   "id": "6f8af867-fe05-4409-9eda-4829860fcf67",
   "metadata": {},
   "outputs": [
    {
     "data": {
      "text/plain": [
       "array([ 5,  8, 10, 12])"
      ]
     },
     "execution_count": 39,
     "metadata": {},
     "output_type": "execute_result"
    }
   ],
   "source": [
    "u + v"
   ]
  },
  {
   "cell_type": "code",
   "execution_count": 50,
   "id": "766c38d3-c496-4658-9ae6-ae7dc9f24340",
   "metadata": {},
   "outputs": [
    {
     "data": {
      "text/plain": [
       "(4,)"
      ]
     },
     "execution_count": 50,
     "metadata": {},
     "output_type": "execute_result"
    }
   ],
   "source": [
    "u.shape"
   ]
  },
  {
   "cell_type": "markdown",
   "id": "3cdf7469-178a-4d02-85f9-d54512a55b6b",
   "metadata": {},
   "source": [
    "### Vector - Vector Multiplication (Dot product)"
   ]
  },
  {
   "cell_type": "code",
   "execution_count": 40,
   "id": "49dad6a2-d81d-4be7-9ed1-204578e6b041",
   "metadata": {},
   "outputs": [
    {
     "data": {
      "text/plain": [
       "array([ 6, 16, 25, 36])"
      ]
     },
     "execution_count": 40,
     "metadata": {},
     "output_type": "execute_result"
    }
   ],
   "source": [
    "u * v # this is not dot product, this is just scalar vector multiplication"
   ]
  },
  {
   "cell_type": "markdown",
   "id": "b5d43c54-ce71-4b80-b366-9e34f6735254",
   "metadata": {},
   "source": [
    "dot product = row vector * column vector \n",
    "dot product = (column vector)<sup>T</sup> * column vector "
   ]
  },
  {
   "cell_type": "code",
   "execution_count": 41,
   "id": "95d8e6f2-3e49-4725-a510-96562af641f0",
   "metadata": {},
   "outputs": [],
   "source": [
    "def dot_product(u, v):\n",
    "    assert u.shape[0] == v.shape[0]\n",
    "\n",
    "    n = u.shape[0]\n",
    "    result = 0.0\n",
    "    \n",
    "    for i in range(n): # range(n) is for i = 0 to n, while incrementing\n",
    "        result += u[i]*v[i]\n",
    "\n",
    "    return result\n",
    "        "
   ]
  },
  {
   "cell_type": "code",
   "execution_count": 42,
   "id": "799d719f-62ce-4f53-9530-d6ea212aa8bf",
   "metadata": {},
   "outputs": [
    {
     "data": {
      "text/plain": [
       "83.0"
      ]
     },
     "execution_count": 42,
     "metadata": {},
     "output_type": "execute_result"
    }
   ],
   "source": [
    "dot_product(u, v)"
   ]
  },
  {
   "cell_type": "code",
   "execution_count": 43,
   "id": "36396707-6daf-4175-9dab-a3eaee9d4142",
   "metadata": {},
   "outputs": [
    {
     "data": {
      "text/plain": [
       "83"
      ]
     },
     "execution_count": 43,
     "metadata": {},
     "output_type": "execute_result"
    }
   ],
   "source": [
    "u.dot(v) # inbuilt function in numpy"
   ]
  },
  {
   "cell_type": "markdown",
   "id": "f0b92a7f-ec0c-4d1d-b6ee-66f8e96dd7f7",
   "metadata": {},
   "source": [
    "### Matrix-Vector Multplication"
   ]
  },
  {
   "cell_type": "code",
   "execution_count": 44,
   "id": "099981d3-aadb-42e2-9a21-03da0546e7dd",
   "metadata": {},
   "outputs": [
    {
     "data": {
      "text/plain": [
       "array([[2, 4, 5, 6],\n",
       "       [1, 2, 1, 2],\n",
       "       [3, 1, 2, 1]])"
      ]
     },
     "execution_count": 44,
     "metadata": {},
     "output_type": "execute_result"
    }
   ],
   "source": [
    "U = np.array([\n",
    "            [2, 4, 5, 6],\n",
    "            [1, 2, 1, 2],\n",
    "            [3, 1, 2, 1]\n",
    "])\n",
    "U"
   ]
  },
  {
   "cell_type": "code",
   "execution_count": 51,
   "id": "6bcf7547-1709-4f43-bb35-902f3fc9a61d",
   "metadata": {},
   "outputs": [
    {
     "data": {
      "text/plain": [
       "(3, 4)"
      ]
     },
     "execution_count": 51,
     "metadata": {},
     "output_type": "execute_result"
    }
   ],
   "source": [
    "U.shape"
   ]
  },
  {
   "attachments": {
    "b30cf3c1-ec28-4ada-9599-c68ef45c4e52.png": {
     "image/png": "[encoded data removed]"
    }
   },
   "cell_type": "markdown",
   "id": "fc3a233c-7425-4157-82c3-61adf7475ebe",
   "metadata": {},
   "source": [
    "![image.png](attachment:b30cf3c1-ec28-4ada-9599-c68ef45c4e52.png)"
   ]
  },
  {
   "cell_type": "markdown",
   "id": "6cfef187-3a34-4082-87fe-ba2e635c64b9",
   "metadata": {},
   "source": [
    "In matrix-vector multiplication, the shape of the vector and the shape of the columns in the matrix must be same"
   ]
  },
  {
   "cell_type": "code",
   "execution_count": 46,
   "id": "745f9a3c-012a-4daa-827a-9ff9b39b2bd4",
   "metadata": {},
   "outputs": [],
   "source": [
    "def matrix_vector_multiplication(U,v):\n",
    "    assert U.shape[1] == v.shape[0]\n",
    "\n",
    "    num_rows = U.shape[0]\n",
    "    result = np.zeros(num_rows)\n",
    "\n",
    "    for i in range(num_rows):\n",
    "        result[i] = dot_product(U[i],v)\n",
    "\n",
    "    return result"
   ]
  },
  {
   "cell_type": "code",
   "execution_count": 47,
   "id": "94e6ba5e-0e2c-44df-8d79-a9cb9d8ad845",
   "metadata": {},
   "outputs": [
    {
     "data": {
      "text/plain": [
       "array([83., 28., 29.])"
      ]
     },
     "execution_count": 47,
     "metadata": {},
     "output_type": "execute_result"
    }
   ],
   "source": [
    "matrix_vector_multiplication(U,v)"
   ]
  },
  {
   "cell_type": "code",
   "execution_count": 48,
   "id": "d10c73d3-2db6-4ab8-9d14-fff259fab025",
   "metadata": {},
   "outputs": [
    {
     "data": {
      "text/plain": [
       "4"
      ]
     },
     "execution_count": 48,
     "metadata": {},
     "output_type": "execute_result"
    }
   ],
   "source": [
    "U.shape[1]"
   ]
  },
  {
   "cell_type": "code",
   "execution_count": 58,
   "id": "c55785c4-a95a-44a8-bf25-bb86ac9dc456",
   "metadata": {},
   "outputs": [],
   "source": [
    "V = np.array([\n",
    "    [1, 7, 4],\n",
    "    [3, 5, 6],\n",
    "    [4, 8, 9],\n",
    "    [1, 4, 2]\n",
    "])"
   ]
  },
  {
   "cell_type": "markdown",
   "id": "eb45e53c-a83c-49ea-90d8-51c7ca2dd033",
   "metadata": {},
   "source": [
    "![Image.png](https://www.math-only-math.com/images/multiplication-of-matrices.png)"
   ]
  },
  {
   "cell_type": "code",
   "execution_count": 61,
   "id": "c2fbb7d1-6d6f-4fdf-ba01-aa6cdbcc1adc",
   "metadata": {},
   "outputs": [],
   "source": [
    "def matrix_matrix_multiplication(U,V):\n",
    "    assert U.shape[1] == V.shape[0]\n",
    "\n",
    "    num_rows = U.shape[0]\n",
    "    num_cols = V.shape[1]\n",
    "    result = np.zeros((num_rows, num_cols))\n",
    "\n",
    "    for i in range(num_cols):\n",
    "        vi = V[:, i] # column index\n",
    "        Uvi = matrix_vector_multiplication(U, vi)\n",
    "        result[:, i] = Uvi\n",
    "\n",
    "    return result\n",
    "        "
   ]
  },
  {
   "cell_type": "code",
   "execution_count": 62,
   "id": "94bf89ce-9ba3-4eb6-8ae2-54189acd1463",
   "metadata": {},
   "outputs": [
    {
     "data": {
      "text/plain": [
       "array([[40., 98., 89.],\n",
       "       [13., 33., 29.],\n",
       "       [15., 46., 38.]])"
      ]
     },
     "execution_count": 62,
     "metadata": {},
     "output_type": "execute_result"
    }
   ],
   "source": [
    "matrix_matrix_multiplication(U,V)"
   ]
  },
  {
   "cell_type": "code",
   "execution_count": 63,
   "id": "567ccb28-ec6c-4a2a-831b-f80ab5ca136c",
   "metadata": {},
   "outputs": [],
   "source": [
    "T = np.eye(3)"
   ]
  },
  {
   "cell_type": "code",
   "execution_count": 64,
   "id": "92a6ce32-450c-4842-9591-8b63376fe955",
   "metadata": {},
   "outputs": [
    {
     "data": {
      "text/plain": [
       "array([[1., 0., 0.],\n",
       "       [0., 1., 0.],\n",
       "       [0., 0., 1.]])"
      ]
     },
     "execution_count": 64,
     "metadata": {},
     "output_type": "execute_result"
    }
   ],
   "source": [
    "T"
   ]
  },
  {
   "cell_type": "code",
   "execution_count": 71,
   "id": "221b4f10-b5e7-4915-b34d-19e1f4ac2f0e",
   "metadata": {},
   "outputs": [],
   "source": [
    "Z = np.linalg.inv(T)"
   ]
  },
  {
   "cell_type": "code",
   "execution_count": 72,
   "id": "cff2ac4b-a587-439d-998d-678ff851d5bc",
   "metadata": {},
   "outputs": [
    {
     "data": {
      "text/plain": [
       "array([[1., 0., 0.],\n",
       "       [0., 1., 0.],\n",
       "       [0., 0., 1.]])"
      ]
     },
     "execution_count": 72,
     "metadata": {},
     "output_type": "execute_result"
    }
   ],
   "source": [
    "Z"
   ]
  },
  {
   "cell_type": "code",
   "execution_count": null,
   "id": "cd4213e2-8cf4-4227-9bae-da01474e1ced",
   "metadata": {},
   "outputs": [],
   "source": []
  }
 ],
 "metadata": {
  "kernelspec": {
   "display_name": "Python 3 (ipykernel)",
   "language": "python",
   "name": "python3"
  },
  "language_info": {
   "codemirror_mode": {
    "name": "ipython",
    "version": 3
   },
   "file_extension": ".py",
   "mimetype": "text/x-python",
   "name": "python",
   "nbconvert_exporter": "python",
   "pygments_lexer": "ipython3",
   "version": "3.12.3"
  }
 },
 "nbformat": 4,
 "nbformat_minor": 5
}
