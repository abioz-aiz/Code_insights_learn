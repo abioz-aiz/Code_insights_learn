{
 "cells": [
  {
   "cell_type": "code",
   "execution_count": 102,
   "id": "ba627a80-5fc0-41da-b130-bbe6f8c1f525",
   "metadata": {},
   "outputs": [],
   "source": [
    "import numpy as np\n",
    "import pandas as pd\n",
    "from sklearn.model_selection import train_test_split"
   ]
  },
  {
   "cell_type": "code",
   "execution_count": 103,
   "id": "dbbfdd67-0eaf-4434-b75b-9fee52e26281",
   "metadata": {},
   "outputs": [],
   "source": [
    "data_frame = pd.read_csv(\"datasets/bank+marketing/bank/bank-full.csv\", delimiter = ';')\n",
    "data_frame.drop(columns = ['default', 'loan'], inplace = True)"
   ]
  },
  {
   "cell_type": "code",
   "execution_count": 104,
   "id": "56b35537-eb9f-4d9d-acff-c45a5b529f41",
   "metadata": {},
   "outputs": [],
   "source": [
    "df = data_frame.copy()"
   ]
  },
  {
   "cell_type": "code",
   "execution_count": 105,
   "id": "870ee5da-302c-4c8b-8a68-54669871e556",
   "metadata": {},
   "outputs": [],
   "source": [
    "df.y = (df.y == 'yes').astype(int)"
   ]
  },
  {
   "cell_type": "code",
   "execution_count": 106,
   "id": "02b71bd2-51dd-4228-bc95-d4b996492ab8",
   "metadata": {},
   "outputs": [],
   "source": [
    "full_train, df_test = train_test_split(df, test_size = 0.2, random_state = 1)"
   ]
  },
  {
   "cell_type": "code",
   "execution_count": 107,
   "id": "a2b8c8ca-2cf2-410c-b823-26e09bb062dc",
   "metadata": {},
   "outputs": [],
   "source": [
    "df_train, df_val = train_test_split(full_train, test_size = 0.25, random_state = 1)"
   ]
  },
  {
   "cell_type": "code",
   "execution_count": 108,
   "id": "a1436ec0-8d92-403a-b9b4-f50325a7052c",
   "metadata": {},
   "outputs": [
    {
     "data": {
      "text/html": [
       "<div>\n",
       "<style scoped>\n",
       "    .dataframe tbody tr th:only-of-type {\n",
       "        vertical-align: middle;\n",
       "    }\n",
       "\n",
       "    .dataframe tbody tr th {\n",
       "        vertical-align: top;\n",
       "    }\n",
       "\n",
       "    .dataframe thead th {\n",
       "        text-align: right;\n",
       "    }\n",
       "</style>\n",
       "<table border=\"1\" class=\"dataframe\">\n",
       "  <thead>\n",
       "    <tr style=\"text-align: right;\">\n",
       "      <th></th>\n",
       "      <th>age</th>\n",
       "      <th>job</th>\n",
       "      <th>marital</th>\n",
       "      <th>education</th>\n",
       "      <th>balance</th>\n",
       "      <th>housing</th>\n",
       "      <th>contact</th>\n",
       "      <th>day</th>\n",
       "      <th>month</th>\n",
       "      <th>duration</th>\n",
       "      <th>campaign</th>\n",
       "      <th>pdays</th>\n",
       "      <th>previous</th>\n",
       "      <th>poutcome</th>\n",
       "      <th>y</th>\n",
       "    </tr>\n",
       "  </thead>\n",
       "  <tbody>\n",
       "    <tr>\n",
       "      <th>0</th>\n",
       "      <td>58</td>\n",
       "      <td>management</td>\n",
       "      <td>married</td>\n",
       "      <td>tertiary</td>\n",
       "      <td>2143</td>\n",
       "      <td>yes</td>\n",
       "      <td>unknown</td>\n",
       "      <td>5</td>\n",
       "      <td>may</td>\n",
       "      <td>261</td>\n",
       "      <td>1</td>\n",
       "      <td>-1</td>\n",
       "      <td>0</td>\n",
       "      <td>unknown</td>\n",
       "      <td>0</td>\n",
       "    </tr>\n",
       "    <tr>\n",
       "      <th>10</th>\n",
       "      <td>41</td>\n",
       "      <td>admin.</td>\n",
       "      <td>divorced</td>\n",
       "      <td>secondary</td>\n",
       "      <td>270</td>\n",
       "      <td>yes</td>\n",
       "      <td>unknown</td>\n",
       "      <td>5</td>\n",
       "      <td>may</td>\n",
       "      <td>222</td>\n",
       "      <td>1</td>\n",
       "      <td>-1</td>\n",
       "      <td>0</td>\n",
       "      <td>unknown</td>\n",
       "      <td>0</td>\n",
       "    </tr>\n",
       "    <tr>\n",
       "      <th>20</th>\n",
       "      <td>28</td>\n",
       "      <td>blue-collar</td>\n",
       "      <td>married</td>\n",
       "      <td>secondary</td>\n",
       "      <td>723</td>\n",
       "      <td>yes</td>\n",
       "      <td>unknown</td>\n",
       "      <td>5</td>\n",
       "      <td>may</td>\n",
       "      <td>262</td>\n",
       "      <td>1</td>\n",
       "      <td>-1</td>\n",
       "      <td>0</td>\n",
       "      <td>unknown</td>\n",
       "      <td>0</td>\n",
       "    </tr>\n",
       "    <tr>\n",
       "      <th>30</th>\n",
       "      <td>57</td>\n",
       "      <td>technician</td>\n",
       "      <td>married</td>\n",
       "      <td>secondary</td>\n",
       "      <td>839</td>\n",
       "      <td>no</td>\n",
       "      <td>unknown</td>\n",
       "      <td>5</td>\n",
       "      <td>may</td>\n",
       "      <td>225</td>\n",
       "      <td>1</td>\n",
       "      <td>-1</td>\n",
       "      <td>0</td>\n",
       "      <td>unknown</td>\n",
       "      <td>0</td>\n",
       "    </tr>\n",
       "    <tr>\n",
       "      <th>40</th>\n",
       "      <td>44</td>\n",
       "      <td>services</td>\n",
       "      <td>divorced</td>\n",
       "      <td>secondary</td>\n",
       "      <td>2586</td>\n",
       "      <td>yes</td>\n",
       "      <td>unknown</td>\n",
       "      <td>5</td>\n",
       "      <td>may</td>\n",
       "      <td>160</td>\n",
       "      <td>1</td>\n",
       "      <td>-1</td>\n",
       "      <td>0</td>\n",
       "      <td>unknown</td>\n",
       "      <td>0</td>\n",
       "    </tr>\n",
       "    <tr>\n",
       "      <th>...</th>\n",
       "      <td>...</td>\n",
       "      <td>...</td>\n",
       "      <td>...</td>\n",
       "      <td>...</td>\n",
       "      <td>...</td>\n",
       "      <td>...</td>\n",
       "      <td>...</td>\n",
       "      <td>...</td>\n",
       "      <td>...</td>\n",
       "      <td>...</td>\n",
       "      <td>...</td>\n",
       "      <td>...</td>\n",
       "      <td>...</td>\n",
       "      <td>...</td>\n",
       "      <td>...</td>\n",
       "    </tr>\n",
       "    <tr>\n",
       "      <th>45170</th>\n",
       "      <td>19</td>\n",
       "      <td>student</td>\n",
       "      <td>single</td>\n",
       "      <td>primary</td>\n",
       "      <td>245</td>\n",
       "      <td>no</td>\n",
       "      <td>telephone</td>\n",
       "      <td>10</td>\n",
       "      <td>nov</td>\n",
       "      <td>98</td>\n",
       "      <td>2</td>\n",
       "      <td>110</td>\n",
       "      <td>2</td>\n",
       "      <td>other</td>\n",
       "      <td>0</td>\n",
       "    </tr>\n",
       "    <tr>\n",
       "      <th>45180</th>\n",
       "      <td>66</td>\n",
       "      <td>retired</td>\n",
       "      <td>married</td>\n",
       "      <td>secondary</td>\n",
       "      <td>3409</td>\n",
       "      <td>no</td>\n",
       "      <td>cellular</td>\n",
       "      <td>15</td>\n",
       "      <td>nov</td>\n",
       "      <td>414</td>\n",
       "      <td>2</td>\n",
       "      <td>27</td>\n",
       "      <td>6</td>\n",
       "      <td>failure</td>\n",
       "      <td>0</td>\n",
       "    </tr>\n",
       "    <tr>\n",
       "      <th>45190</th>\n",
       "      <td>32</td>\n",
       "      <td>blue-collar</td>\n",
       "      <td>married</td>\n",
       "      <td>secondary</td>\n",
       "      <td>136</td>\n",
       "      <td>no</td>\n",
       "      <td>cellular</td>\n",
       "      <td>16</td>\n",
       "      <td>nov</td>\n",
       "      <td>206</td>\n",
       "      <td>1</td>\n",
       "      <td>188</td>\n",
       "      <td>3</td>\n",
       "      <td>success</td>\n",
       "      <td>1</td>\n",
       "    </tr>\n",
       "    <tr>\n",
       "      <th>45200</th>\n",
       "      <td>38</td>\n",
       "      <td>technician</td>\n",
       "      <td>married</td>\n",
       "      <td>secondary</td>\n",
       "      <td>557</td>\n",
       "      <td>yes</td>\n",
       "      <td>cellular</td>\n",
       "      <td>16</td>\n",
       "      <td>nov</td>\n",
       "      <td>1556</td>\n",
       "      <td>4</td>\n",
       "      <td>-1</td>\n",
       "      <td>0</td>\n",
       "      <td>unknown</td>\n",
       "      <td>1</td>\n",
       "    </tr>\n",
       "    <tr>\n",
       "      <th>45210</th>\n",
       "      <td>37</td>\n",
       "      <td>entrepreneur</td>\n",
       "      <td>married</td>\n",
       "      <td>secondary</td>\n",
       "      <td>2971</td>\n",
       "      <td>no</td>\n",
       "      <td>cellular</td>\n",
       "      <td>17</td>\n",
       "      <td>nov</td>\n",
       "      <td>361</td>\n",
       "      <td>2</td>\n",
       "      <td>188</td>\n",
       "      <td>11</td>\n",
       "      <td>other</td>\n",
       "      <td>0</td>\n",
       "    </tr>\n",
       "  </tbody>\n",
       "</table>\n",
       "<p>4522 rows × 15 columns</p>\n",
       "</div>"
      ],
      "text/plain": [
       "       age           job   marital  education  balance housing    contact  \\\n",
       "0       58    management   married   tertiary     2143     yes    unknown   \n",
       "10      41        admin.  divorced  secondary      270     yes    unknown   \n",
       "20      28   blue-collar   married  secondary      723     yes    unknown   \n",
       "30      57    technician   married  secondary      839      no    unknown   \n",
       "40      44      services  divorced  secondary     2586     yes    unknown   \n",
       "...    ...           ...       ...        ...      ...     ...        ...   \n",
       "45170   19       student    single    primary      245      no  telephone   \n",
       "45180   66       retired   married  secondary     3409      no   cellular   \n",
       "45190   32   blue-collar   married  secondary      136      no   cellular   \n",
       "45200   38    technician   married  secondary      557     yes   cellular   \n",
       "45210   37  entrepreneur   married  secondary     2971      no   cellular   \n",
       "\n",
       "       day month  duration  campaign  pdays  previous poutcome  y  \n",
       "0        5   may       261         1     -1         0  unknown  0  \n",
       "10       5   may       222         1     -1         0  unknown  0  \n",
       "20       5   may       262         1     -1         0  unknown  0  \n",
       "30       5   may       225         1     -1         0  unknown  0  \n",
       "40       5   may       160         1     -1         0  unknown  0  \n",
       "...    ...   ...       ...       ...    ...       ...      ... ..  \n",
       "45170   10   nov        98         2    110         2    other  0  \n",
       "45180   15   nov       414         2     27         6  failure  0  \n",
       "45190   16   nov       206         1    188         3  success  1  \n",
       "45200   16   nov      1556         4     -1         0  unknown  1  \n",
       "45210   17   nov       361         2    188        11    other  0  \n",
       "\n",
       "[4522 rows x 15 columns]"
      ]
     },
     "execution_count": 108,
     "metadata": {},
     "output_type": "execute_result"
    }
   ],
   "source": [
    "df[::10]"
   ]
  },
  {
   "cell_type": "code",
   "execution_count": 109,
   "id": "846dec11-9acf-49e7-89b2-5782e38c3b70",
   "metadata": {},
   "outputs": [
    {
     "data": {
      "text/plain": [
       "age           int64\n",
       "job          object\n",
       "marital      object\n",
       "education    object\n",
       "balance       int64\n",
       "housing      object\n",
       "contact      object\n",
       "day           int64\n",
       "month        object\n",
       "duration      int64\n",
       "campaign      int64\n",
       "pdays         int64\n",
       "previous      int64\n",
       "poutcome     object\n",
       "y             int64\n",
       "dtype: object"
      ]
     },
     "execution_count": 109,
     "metadata": {},
     "output_type": "execute_result"
    }
   ],
   "source": [
    "df.dtypes"
   ]
  },
  {
   "cell_type": "code",
   "execution_count": 110,
   "id": "9d6138c7-259d-4ffe-b2d5-05fff6df9809",
   "metadata": {},
   "outputs": [],
   "source": [
    "categorical = ['job', 'marital', 'education', 'housing', 'contact', 'month',\n",
    "       'poutcome']"
   ]
  },
  {
   "cell_type": "code",
   "execution_count": 111,
   "id": "6336b65b-9c6e-4d95-8d8f-bf92f0e50f88",
   "metadata": {},
   "outputs": [],
   "source": [
    "numerical = ['age', 'balance', 'day', 'duration', 'campaign', 'pdays', 'previous']"
   ]
  },
  {
   "cell_type": "code",
   "execution_count": 112,
   "id": "d5b71eb0-7dc4-4978-a090-bf11ab3ca5e0",
   "metadata": {},
   "outputs": [],
   "source": [
    "y_full_train = full_train.y.values"
   ]
  },
  {
   "cell_type": "code",
   "execution_count": 113,
   "id": "3f2fb533-a0fa-4f87-bfa5-60510cc2c0af",
   "metadata": {},
   "outputs": [],
   "source": [
    "y_train = df_train.y.values"
   ]
  },
  {
   "cell_type": "code",
   "execution_count": 114,
   "id": "d276524c-4c6a-4b77-bcd0-e2a631acf77e",
   "metadata": {},
   "outputs": [],
   "source": [
    "y_val = df_val.y.values"
   ]
  },
  {
   "cell_type": "code",
   "execution_count": 115,
   "id": "45b08d1b-a3e8-4c97-a25f-a6114724ba75",
   "metadata": {},
   "outputs": [],
   "source": [
    "y_test = df_test.y.values"
   ]
  },
  {
   "cell_type": "code",
   "execution_count": 116,
   "id": "3e34c323-f495-4e27-90f5-c46aa6d34099",
   "metadata": {},
   "outputs": [],
   "source": [
    "del df_train['y']\n",
    "del df_val['y']\n",
    "del df_test['y']"
   ]
  },
  {
   "cell_type": "code",
   "execution_count": 117,
   "id": "f538776e-f9ad-474f-a54e-b3ac3fd5ceb5",
   "metadata": {},
   "outputs": [],
   "source": [
    "df_train = df_train.reset_index(drop = True)\n",
    "df_val = df_val.reset_index(drop = True)\n",
    "df_test = df_test.reset_index(drop = True)"
   ]
  },
  {
   "cell_type": "markdown",
   "id": "9b75c2f4-a03b-4805-9eb9-ad1ab0e4cff6",
   "metadata": {},
   "source": [
    "### Question 1"
   ]
  },
  {
   "cell_type": "code",
   "execution_count": 118,
   "id": "8dfa42e7-52b9-48cb-af4e-5477c104f37d",
   "metadata": {},
   "outputs": [],
   "source": [
    "from sklearn.metrics import roc_auc_score"
   ]
  },
  {
   "cell_type": "code",
   "execution_count": 119,
   "id": "2943f7ab-ae3c-4d67-80c9-cd3d25607c94",
   "metadata": {},
   "outputs": [
    {
     "data": {
      "text/plain": [
       "0.5888313805382317"
      ]
     },
     "execution_count": 119,
     "metadata": {},
     "output_type": "execute_result"
    }
   ],
   "source": [
    "roc_auc_score(y_train, df_train.balance)"
   ]
  },
  {
   "cell_type": "code",
   "execution_count": 120,
   "id": "e313a775-4301-40a0-983f-6eb506470f22",
   "metadata": {},
   "outputs": [
    {
     "data": {
      "text/plain": [
       "0.474042117616092"
      ]
     },
     "execution_count": 120,
     "metadata": {},
     "output_type": "execute_result"
    }
   ],
   "source": [
    "roc_auc_score(y_train, df_train.day)"
   ]
  },
  {
   "cell_type": "code",
   "execution_count": 121,
   "id": "b3c35eae-3956-4123-bec7-2416bcb8557d",
   "metadata": {},
   "outputs": [
    {
     "data": {
      "text/plain": [
       "0.8147002759670778"
      ]
     },
     "execution_count": 121,
     "metadata": {},
     "output_type": "execute_result"
    }
   ],
   "source": [
    "roc_auc_score(y_train, df_train.duration)"
   ]
  },
  {
   "cell_type": "code",
   "execution_count": 122,
   "id": "97b6ef0b-04e1-478a-93ee-978b80040462",
   "metadata": {},
   "outputs": [
    {
     "data": {
      "text/plain": [
       "0.5985653242764153"
      ]
     },
     "execution_count": 122,
     "metadata": {},
     "output_type": "execute_result"
    }
   ],
   "source": [
    "roc_auc_score(y_train, df_train.previous)"
   ]
  },
  {
   "cell_type": "markdown",
   "id": "21018ad1-3005-4da9-ad5e-134a3b3a283d",
   "metadata": {},
   "source": [
    "### Question 2"
   ]
  },
  {
   "cell_type": "code",
   "execution_count": 142,
   "id": "2d738af5-c19c-4a23-95b8-a46ac86c5539",
   "metadata": {},
   "outputs": [],
   "source": [
    "from sklearn.feature_extraction import DictVectorizer\n",
    "from sklearn.linear_model import LogisticRegression\n",
    "import matplotlib.pyplot as plt "
   ]
  },
  {
   "cell_type": "code",
   "execution_count": 124,
   "id": "53d55e74-fe6e-4501-a7e4-d52fda7d401e",
   "metadata": {},
   "outputs": [],
   "source": [
    "val_dicts = df_val[categorical + numerical].to_dict(orient = 'records')"
   ]
  },
  {
   "cell_type": "code",
   "execution_count": 125,
   "id": "f8814133-c6d3-474b-a5cf-14431fdbf3fe",
   "metadata": {},
   "outputs": [
    {
     "data": {
      "text/plain": [
       "{'job': 'blue-collar',\n",
       " 'marital': 'married',\n",
       " 'education': 'primary',\n",
       " 'housing': 'no',\n",
       " 'contact': 'cellular',\n",
       " 'month': 'aug',\n",
       " 'poutcome': 'unknown',\n",
       " 'age': 57,\n",
       " 'balance': 856,\n",
       " 'day': 11,\n",
       " 'duration': 194,\n",
       " 'campaign': 6,\n",
       " 'pdays': -1,\n",
       " 'previous': 0}"
      ]
     },
     "execution_count": 125,
     "metadata": {},
     "output_type": "execute_result"
    }
   ],
   "source": [
    "val_dicts[0]"
   ]
  },
  {
   "cell_type": "code",
   "execution_count": 126,
   "id": "1de1d303-1a22-4189-81a1-5d373a52bd16",
   "metadata": {},
   "outputs": [],
   "source": [
    "dv = DictVectorizer(sparse = False)"
   ]
  },
  {
   "cell_type": "code",
   "execution_count": 127,
   "id": "8559d801-342b-4ca5-928e-46ac7ae880ec",
   "metadata": {},
   "outputs": [
    {
     "data": {
      "text/html": [
       "<style>#sk-container-id-2 {\n",
       "  /* Definition of color scheme common for light and dark mode */\n",
       "  --sklearn-color-text: black;\n",
       "  --sklearn-color-line: gray;\n",
       "  /* Definition of color scheme for unfitted estimators */\n",
       "  --sklearn-color-unfitted-level-0: #fff5e6;\n",
       "  --sklearn-color-unfitted-level-1: #f6e4d2;\n",
       "  --sklearn-color-unfitted-level-2: #ffe0b3;\n",
       "  --sklearn-color-unfitted-level-3: chocolate;\n",
       "  /* Definition of color scheme for fitted estimators */\n",
       "  --sklearn-color-fitted-level-0: #f0f8ff;\n",
       "  --sklearn-color-fitted-level-1: #d4ebff;\n",
       "  --sklearn-color-fitted-level-2: #b3dbfd;\n",
       "  --sklearn-color-fitted-level-3: cornflowerblue;\n",
       "\n",
       "  /* Specific color for light theme */\n",
       "  --sklearn-color-text-on-default-background: var(--sg-text-color, var(--theme-code-foreground, var(--jp-content-font-color1, black)));\n",
       "  --sklearn-color-background: var(--sg-background-color, var(--theme-background, var(--jp-layout-color0, white)));\n",
       "  --sklearn-color-border-box: var(--sg-text-color, var(--theme-code-foreground, var(--jp-content-font-color1, black)));\n",
       "  --sklearn-color-icon: #696969;\n",
       "\n",
       "  @media (prefers-color-scheme: dark) {\n",
       "    /* Redefinition of color scheme for dark theme */\n",
       "    --sklearn-color-text-on-default-background: var(--sg-text-color, var(--theme-code-foreground, var(--jp-content-font-color1, white)));\n",
       "    --sklearn-color-background: var(--sg-background-color, var(--theme-background, var(--jp-layout-color0, #111)));\n",
       "    --sklearn-color-border-box: var(--sg-text-color, var(--theme-code-foreground, var(--jp-content-font-color1, white)));\n",
       "    --sklearn-color-icon: #878787;\n",
       "  }\n",
       "}\n",
       "\n",
       "#sk-container-id-2 {\n",
       "  color: var(--sklearn-color-text);\n",
       "}\n",
       "\n",
       "#sk-container-id-2 pre {\n",
       "  padding: 0;\n",
       "}\n",
       "\n",
       "#sk-container-id-2 input.sk-hidden--visually {\n",
       "  border: 0;\n",
       "  clip: rect(1px 1px 1px 1px);\n",
       "  clip: rect(1px, 1px, 1px, 1px);\n",
       "  height: 1px;\n",
       "  margin: -1px;\n",
       "  overflow: hidden;\n",
       "  padding: 0;\n",
       "  position: absolute;\n",
       "  width: 1px;\n",
       "}\n",
       "\n",
       "#sk-container-id-2 div.sk-dashed-wrapped {\n",
       "  border: 1px dashed var(--sklearn-color-line);\n",
       "  margin: 0 0.4em 0.5em 0.4em;\n",
       "  box-sizing: border-box;\n",
       "  padding-bottom: 0.4em;\n",
       "  background-color: var(--sklearn-color-background);\n",
       "}\n",
       "\n",
       "#sk-container-id-2 div.sk-container {\n",
       "  /* jupyter's `normalize.less` sets `[hidden] { display: none; }`\n",
       "     but bootstrap.min.css set `[hidden] { display: none !important; }`\n",
       "     so we also need the `!important` here to be able to override the\n",
       "     default hidden behavior on the sphinx rendered scikit-learn.org.\n",
       "     See: https://github.com/scikit-learn/scikit-learn/issues/21755 */\n",
       "  display: inline-block !important;\n",
       "  position: relative;\n",
       "}\n",
       "\n",
       "#sk-container-id-2 div.sk-text-repr-fallback {\n",
       "  display: none;\n",
       "}\n",
       "\n",
       "div.sk-parallel-item,\n",
       "div.sk-serial,\n",
       "div.sk-item {\n",
       "  /* draw centered vertical line to link estimators */\n",
       "  background-image: linear-gradient(var(--sklearn-color-text-on-default-background), var(--sklearn-color-text-on-default-background));\n",
       "  background-size: 2px 100%;\n",
       "  background-repeat: no-repeat;\n",
       "  background-position: center center;\n",
       "}\n",
       "\n",
       "/* Parallel-specific style estimator block */\n",
       "\n",
       "#sk-container-id-2 div.sk-parallel-item::after {\n",
       "  content: \"\";\n",
       "  width: 100%;\n",
       "  border-bottom: 2px solid var(--sklearn-color-text-on-default-background);\n",
       "  flex-grow: 1;\n",
       "}\n",
       "\n",
       "#sk-container-id-2 div.sk-parallel {\n",
       "  display: flex;\n",
       "  align-items: stretch;\n",
       "  justify-content: center;\n",
       "  background-color: var(--sklearn-color-background);\n",
       "  position: relative;\n",
       "}\n",
       "\n",
       "#sk-container-id-2 div.sk-parallel-item {\n",
       "  display: flex;\n",
       "  flex-direction: column;\n",
       "}\n",
       "\n",
       "#sk-container-id-2 div.sk-parallel-item:first-child::after {\n",
       "  align-self: flex-end;\n",
       "  width: 50%;\n",
       "}\n",
       "\n",
       "#sk-container-id-2 div.sk-parallel-item:last-child::after {\n",
       "  align-self: flex-start;\n",
       "  width: 50%;\n",
       "}\n",
       "\n",
       "#sk-container-id-2 div.sk-parallel-item:only-child::after {\n",
       "  width: 0;\n",
       "}\n",
       "\n",
       "/* Serial-specific style estimator block */\n",
       "\n",
       "#sk-container-id-2 div.sk-serial {\n",
       "  display: flex;\n",
       "  flex-direction: column;\n",
       "  align-items: center;\n",
       "  background-color: var(--sklearn-color-background);\n",
       "  padding-right: 1em;\n",
       "  padding-left: 1em;\n",
       "}\n",
       "\n",
       "\n",
       "/* Toggleable style: style used for estimator/Pipeline/ColumnTransformer box that is\n",
       "clickable and can be expanded/collapsed.\n",
       "- Pipeline and ColumnTransformer use this feature and define the default style\n",
       "- Estimators will overwrite some part of the style using the `sk-estimator` class\n",
       "*/\n",
       "\n",
       "/* Pipeline and ColumnTransformer style (default) */\n",
       "\n",
       "#sk-container-id-2 div.sk-toggleable {\n",
       "  /* Default theme specific background. It is overwritten whether we have a\n",
       "  specific estimator or a Pipeline/ColumnTransformer */\n",
       "  background-color: var(--sklearn-color-background);\n",
       "}\n",
       "\n",
       "/* Toggleable label */\n",
       "#sk-container-id-2 label.sk-toggleable__label {\n",
       "  cursor: pointer;\n",
       "  display: block;\n",
       "  width: 100%;\n",
       "  margin-bottom: 0;\n",
       "  padding: 0.5em;\n",
       "  box-sizing: border-box;\n",
       "  text-align: center;\n",
       "}\n",
       "\n",
       "#sk-container-id-2 label.sk-toggleable__label-arrow:before {\n",
       "  /* Arrow on the left of the label */\n",
       "  content: \"▸\";\n",
       "  float: left;\n",
       "  margin-right: 0.25em;\n",
       "  color: var(--sklearn-color-icon);\n",
       "}\n",
       "\n",
       "#sk-container-id-2 label.sk-toggleable__label-arrow:hover:before {\n",
       "  color: var(--sklearn-color-text);\n",
       "}\n",
       "\n",
       "/* Toggleable content - dropdown */\n",
       "\n",
       "#sk-container-id-2 div.sk-toggleable__content {\n",
       "  max-height: 0;\n",
       "  max-width: 0;\n",
       "  overflow: hidden;\n",
       "  text-align: left;\n",
       "  /* unfitted */\n",
       "  background-color: var(--sklearn-color-unfitted-level-0);\n",
       "}\n",
       "\n",
       "#sk-container-id-2 div.sk-toggleable__content.fitted {\n",
       "  /* fitted */\n",
       "  background-color: var(--sklearn-color-fitted-level-0);\n",
       "}\n",
       "\n",
       "#sk-container-id-2 div.sk-toggleable__content pre {\n",
       "  margin: 0.2em;\n",
       "  border-radius: 0.25em;\n",
       "  color: var(--sklearn-color-text);\n",
       "  /* unfitted */\n",
       "  background-color: var(--sklearn-color-unfitted-level-0);\n",
       "}\n",
       "\n",
       "#sk-container-id-2 div.sk-toggleable__content.fitted pre {\n",
       "  /* unfitted */\n",
       "  background-color: var(--sklearn-color-fitted-level-0);\n",
       "}\n",
       "\n",
       "#sk-container-id-2 input.sk-toggleable__control:checked~div.sk-toggleable__content {\n",
       "  /* Expand drop-down */\n",
       "  max-height: 200px;\n",
       "  max-width: 100%;\n",
       "  overflow: auto;\n",
       "}\n",
       "\n",
       "#sk-container-id-2 input.sk-toggleable__control:checked~label.sk-toggleable__label-arrow:before {\n",
       "  content: \"▾\";\n",
       "}\n",
       "\n",
       "/* Pipeline/ColumnTransformer-specific style */\n",
       "\n",
       "#sk-container-id-2 div.sk-label input.sk-toggleable__control:checked~label.sk-toggleable__label {\n",
       "  color: var(--sklearn-color-text);\n",
       "  background-color: var(--sklearn-color-unfitted-level-2);\n",
       "}\n",
       "\n",
       "#sk-container-id-2 div.sk-label.fitted input.sk-toggleable__control:checked~label.sk-toggleable__label {\n",
       "  background-color: var(--sklearn-color-fitted-level-2);\n",
       "}\n",
       "\n",
       "/* Estimator-specific style */\n",
       "\n",
       "/* Colorize estimator box */\n",
       "#sk-container-id-2 div.sk-estimator input.sk-toggleable__control:checked~label.sk-toggleable__label {\n",
       "  /* unfitted */\n",
       "  background-color: var(--sklearn-color-unfitted-level-2);\n",
       "}\n",
       "\n",
       "#sk-container-id-2 div.sk-estimator.fitted input.sk-toggleable__control:checked~label.sk-toggleable__label {\n",
       "  /* fitted */\n",
       "  background-color: var(--sklearn-color-fitted-level-2);\n",
       "}\n",
       "\n",
       "#sk-container-id-2 div.sk-label label.sk-toggleable__label,\n",
       "#sk-container-id-2 div.sk-label label {\n",
       "  /* The background is the default theme color */\n",
       "  color: var(--sklearn-color-text-on-default-background);\n",
       "}\n",
       "\n",
       "/* On hover, darken the color of the background */\n",
       "#sk-container-id-2 div.sk-label:hover label.sk-toggleable__label {\n",
       "  color: var(--sklearn-color-text);\n",
       "  background-color: var(--sklearn-color-unfitted-level-2);\n",
       "}\n",
       "\n",
       "/* Label box, darken color on hover, fitted */\n",
       "#sk-container-id-2 div.sk-label.fitted:hover label.sk-toggleable__label.fitted {\n",
       "  color: var(--sklearn-color-text);\n",
       "  background-color: var(--sklearn-color-fitted-level-2);\n",
       "}\n",
       "\n",
       "/* Estimator label */\n",
       "\n",
       "#sk-container-id-2 div.sk-label label {\n",
       "  font-family: monospace;\n",
       "  font-weight: bold;\n",
       "  display: inline-block;\n",
       "  line-height: 1.2em;\n",
       "}\n",
       "\n",
       "#sk-container-id-2 div.sk-label-container {\n",
       "  text-align: center;\n",
       "}\n",
       "\n",
       "/* Estimator-specific */\n",
       "#sk-container-id-2 div.sk-estimator {\n",
       "  font-family: monospace;\n",
       "  border: 1px dotted var(--sklearn-color-border-box);\n",
       "  border-radius: 0.25em;\n",
       "  box-sizing: border-box;\n",
       "  margin-bottom: 0.5em;\n",
       "  /* unfitted */\n",
       "  background-color: var(--sklearn-color-unfitted-level-0);\n",
       "}\n",
       "\n",
       "#sk-container-id-2 div.sk-estimator.fitted {\n",
       "  /* fitted */\n",
       "  background-color: var(--sklearn-color-fitted-level-0);\n",
       "}\n",
       "\n",
       "/* on hover */\n",
       "#sk-container-id-2 div.sk-estimator:hover {\n",
       "  /* unfitted */\n",
       "  background-color: var(--sklearn-color-unfitted-level-2);\n",
       "}\n",
       "\n",
       "#sk-container-id-2 div.sk-estimator.fitted:hover {\n",
       "  /* fitted */\n",
       "  background-color: var(--sklearn-color-fitted-level-2);\n",
       "}\n",
       "\n",
       "/* Specification for estimator info (e.g. \"i\" and \"?\") */\n",
       "\n",
       "/* Common style for \"i\" and \"?\" */\n",
       "\n",
       ".sk-estimator-doc-link,\n",
       "a:link.sk-estimator-doc-link,\n",
       "a:visited.sk-estimator-doc-link {\n",
       "  float: right;\n",
       "  font-size: smaller;\n",
       "  line-height: 1em;\n",
       "  font-family: monospace;\n",
       "  background-color: var(--sklearn-color-background);\n",
       "  border-radius: 1em;\n",
       "  height: 1em;\n",
       "  width: 1em;\n",
       "  text-decoration: none !important;\n",
       "  margin-left: 1ex;\n",
       "  /* unfitted */\n",
       "  border: var(--sklearn-color-unfitted-level-1) 1pt solid;\n",
       "  color: var(--sklearn-color-unfitted-level-1);\n",
       "}\n",
       "\n",
       ".sk-estimator-doc-link.fitted,\n",
       "a:link.sk-estimator-doc-link.fitted,\n",
       "a:visited.sk-estimator-doc-link.fitted {\n",
       "  /* fitted */\n",
       "  border: var(--sklearn-color-fitted-level-1) 1pt solid;\n",
       "  color: var(--sklearn-color-fitted-level-1);\n",
       "}\n",
       "\n",
       "/* On hover */\n",
       "div.sk-estimator:hover .sk-estimator-doc-link:hover,\n",
       ".sk-estimator-doc-link:hover,\n",
       "div.sk-label-container:hover .sk-estimator-doc-link:hover,\n",
       ".sk-estimator-doc-link:hover {\n",
       "  /* unfitted */\n",
       "  background-color: var(--sklearn-color-unfitted-level-3);\n",
       "  color: var(--sklearn-color-background);\n",
       "  text-decoration: none;\n",
       "}\n",
       "\n",
       "div.sk-estimator.fitted:hover .sk-estimator-doc-link.fitted:hover,\n",
       ".sk-estimator-doc-link.fitted:hover,\n",
       "div.sk-label-container:hover .sk-estimator-doc-link.fitted:hover,\n",
       ".sk-estimator-doc-link.fitted:hover {\n",
       "  /* fitted */\n",
       "  background-color: var(--sklearn-color-fitted-level-3);\n",
       "  color: var(--sklearn-color-background);\n",
       "  text-decoration: none;\n",
       "}\n",
       "\n",
       "/* Span, style for the box shown on hovering the info icon */\n",
       ".sk-estimator-doc-link span {\n",
       "  display: none;\n",
       "  z-index: 9999;\n",
       "  position: relative;\n",
       "  font-weight: normal;\n",
       "  right: .2ex;\n",
       "  padding: .5ex;\n",
       "  margin: .5ex;\n",
       "  width: min-content;\n",
       "  min-width: 20ex;\n",
       "  max-width: 50ex;\n",
       "  color: var(--sklearn-color-text);\n",
       "  box-shadow: 2pt 2pt 4pt #999;\n",
       "  /* unfitted */\n",
       "  background: var(--sklearn-color-unfitted-level-0);\n",
       "  border: .5pt solid var(--sklearn-color-unfitted-level-3);\n",
       "}\n",
       "\n",
       ".sk-estimator-doc-link.fitted span {\n",
       "  /* fitted */\n",
       "  background: var(--sklearn-color-fitted-level-0);\n",
       "  border: var(--sklearn-color-fitted-level-3);\n",
       "}\n",
       "\n",
       ".sk-estimator-doc-link:hover span {\n",
       "  display: block;\n",
       "}\n",
       "\n",
       "/* \"?\"-specific style due to the `<a>` HTML tag */\n",
       "\n",
       "#sk-container-id-2 a.estimator_doc_link {\n",
       "  float: right;\n",
       "  font-size: 1rem;\n",
       "  line-height: 1em;\n",
       "  font-family: monospace;\n",
       "  background-color: var(--sklearn-color-background);\n",
       "  border-radius: 1rem;\n",
       "  height: 1rem;\n",
       "  width: 1rem;\n",
       "  text-decoration: none;\n",
       "  /* unfitted */\n",
       "  color: var(--sklearn-color-unfitted-level-1);\n",
       "  border: var(--sklearn-color-unfitted-level-1) 1pt solid;\n",
       "}\n",
       "\n",
       "#sk-container-id-2 a.estimator_doc_link.fitted {\n",
       "  /* fitted */\n",
       "  border: var(--sklearn-color-fitted-level-1) 1pt solid;\n",
       "  color: var(--sklearn-color-fitted-level-1);\n",
       "}\n",
       "\n",
       "/* On hover */\n",
       "#sk-container-id-2 a.estimator_doc_link:hover {\n",
       "  /* unfitted */\n",
       "  background-color: var(--sklearn-color-unfitted-level-3);\n",
       "  color: var(--sklearn-color-background);\n",
       "  text-decoration: none;\n",
       "}\n",
       "\n",
       "#sk-container-id-2 a.estimator_doc_link.fitted:hover {\n",
       "  /* fitted */\n",
       "  background-color: var(--sklearn-color-fitted-level-3);\n",
       "}\n",
       "</style><div id=\"sk-container-id-2\" class=\"sk-top-container\"><div class=\"sk-text-repr-fallback\"><pre>DictVectorizer(sparse=False)</pre><b>In a Jupyter environment, please rerun this cell to show the HTML representation or trust the notebook. <br />On GitHub, the HTML representation is unable to render, please try loading this page with nbviewer.org.</b></div><div class=\"sk-container\" hidden><div class=\"sk-item\"><div class=\"sk-estimator fitted sk-toggleable\"><input class=\"sk-toggleable__control sk-hidden--visually\" id=\"sk-estimator-id-2\" type=\"checkbox\" checked><label for=\"sk-estimator-id-2\" class=\"sk-toggleable__label fitted sk-toggleable__label-arrow fitted\">&nbsp;&nbsp;DictVectorizer<a class=\"sk-estimator-doc-link fitted\" rel=\"noreferrer\" target=\"_blank\" href=\"https://scikit-learn.org/1.4/modules/generated/sklearn.feature_extraction.DictVectorizer.html\">?<span>Documentation for DictVectorizer</span></a><span class=\"sk-estimator-doc-link fitted\">i<span>Fitted</span></span></label><div class=\"sk-toggleable__content fitted\"><pre>DictVectorizer(sparse=False)</pre></div> </div></div></div></div>"
      ],
      "text/plain": [
       "DictVectorizer(sparse=False)"
      ]
     },
     "execution_count": 127,
     "metadata": {},
     "output_type": "execute_result"
    }
   ],
   "source": [
    "dv.fit(val_dicts)"
   ]
  },
  {
   "cell_type": "code",
   "execution_count": 128,
   "id": "7b167f3e-45a0-40b8-8188-22093f2d2a19",
   "metadata": {},
   "outputs": [
    {
     "name": "stdout",
     "output_type": "stream",
     "text": [
      "['age' 'balance' 'campaign' 'contact=cellular' 'contact=telephone'\n",
      " 'contact=unknown' 'day' 'duration' 'education=primary'\n",
      " 'education=secondary' 'education=tertiary' 'education=unknown'\n",
      " 'housing=no' 'housing=yes' 'job=admin.' 'job=blue-collar'\n",
      " 'job=entrepreneur' 'job=housemaid' 'job=management' 'job=retired'\n",
      " 'job=self-employed' 'job=services' 'job=student' 'job=technician'\n",
      " 'job=unemployed' 'job=unknown' 'marital=divorced' 'marital=married'\n",
      " 'marital=single' 'month=apr' 'month=aug' 'month=dec' 'month=feb'\n",
      " 'month=jan' 'month=jul' 'month=jun' 'month=mar' 'month=may' 'month=nov'\n",
      " 'month=oct' 'month=sep' 'pdays' 'poutcome=failure' 'poutcome=other'\n",
      " 'poutcome=success' 'poutcome=unknown' 'previous']\n"
     ]
    }
   ],
   "source": [
    "print(dv.get_feature_names_out())"
   ]
  },
  {
   "cell_type": "code",
   "execution_count": 129,
   "id": "c329e348-e502-4bb9-a600-197057d425c1",
   "metadata": {},
   "outputs": [],
   "source": [
    "X_val = dv.transform(val_dicts)"
   ]
  },
  {
   "cell_type": "code",
   "execution_count": 130,
   "id": "bb176c71-ab2c-403a-8535-6edf226c1c53",
   "metadata": {},
   "outputs": [],
   "source": [
    "def train(df_train, y_train):\n",
    "    dicts = df_train[categorical + numerical].to_dict(orient='records')\n",
    " \n",
    "    dv = DictVectorizer(sparse=False)\n",
    "    X_train = dv.fit_transform(dicts)\n",
    " \n",
    "    model = LogisticRegression(solver='liblinear', C=1.0, max_iter=1000)\n",
    "    model.fit(X_train, y_train)\n",
    " \n",
    "    return dv, model"
   ]
  },
  {
   "cell_type": "code",
   "execution_count": 131,
   "id": "0e47499a-6f56-4355-aef5-9b22ece2bc87",
   "metadata": {},
   "outputs": [],
   "source": [
    "def predict(df, dv, model):\n",
    "     dicts = df[categorical + numerical].to_dict(orient='records')\n",
    " \n",
    "     X = dv.fit_transform(dicts)\n",
    "     y_pred = model.predict_proba(X)[:,1]\n",
    " \n",
    "     return y_pred"
   ]
  },
  {
   "cell_type": "code",
   "execution_count": 132,
   "id": "3c1bc29b-3f2a-4e14-843b-a86848efa9b5",
   "metadata": {},
   "outputs": [],
   "source": [
    "dv, model = train(df_val, y_val)"
   ]
  },
  {
   "cell_type": "code",
   "execution_count": 133,
   "id": "47d18829-94aa-4030-8cbc-36be2519ec53",
   "metadata": {},
   "outputs": [
    {
     "data": {
      "text/plain": [
       "array([0.03419174, 0.02462639, 0.01952402, ..., 0.30247162, 0.0025919 ,\n",
       "       0.04536496])"
      ]
     },
     "execution_count": 133,
     "metadata": {},
     "output_type": "execute_result"
    }
   ],
   "source": [
    "y_pred = predict(df_val, dv, model)\n",
    "y_pred"
   ]
  },
  {
   "cell_type": "code",
   "execution_count": 134,
   "id": "62574ae7-8ca5-4492-9362-40c69d07cd22",
   "metadata": {},
   "outputs": [
    {
     "data": {
      "text/plain": [
       "0.8999609286865986"
      ]
     },
     "execution_count": 134,
     "metadata": {},
     "output_type": "execute_result"
    }
   ],
   "source": [
    "auc = roc_auc_score(y_val, y_pred)\n",
    "auc"
   ]
  },
  {
   "cell_type": "markdown",
   "id": "6d52c152-c8ce-4ffa-97dd-aecb0b04525e",
   "metadata": {},
   "source": [
    "### Question 3"
   ]
  },
  {
   "cell_type": "code",
   "execution_count": 135,
   "id": "b7d1e30d-67b5-49c0-bd4e-373167501ca5",
   "metadata": {},
   "outputs": [
    {
     "data": {
      "text/plain": [
       "array([0.  , 0.01, 0.02, 0.03, 0.04, 0.05, 0.06, 0.07, 0.08, 0.09, 0.1 ,\n",
       "       0.11, 0.12, 0.13, 0.14, 0.15, 0.16, 0.17, 0.18, 0.19, 0.2 , 0.21,\n",
       "       0.22, 0.23, 0.24, 0.25, 0.26, 0.27, 0.28, 0.29, 0.3 , 0.31, 0.32,\n",
       "       0.33, 0.34, 0.35, 0.36, 0.37, 0.38, 0.39, 0.4 , 0.41, 0.42, 0.43,\n",
       "       0.44, 0.45, 0.46, 0.47, 0.48, 0.49, 0.5 , 0.51, 0.52, 0.53, 0.54,\n",
       "       0.55, 0.56, 0.57, 0.58, 0.59, 0.6 , 0.61, 0.62, 0.63, 0.64, 0.65,\n",
       "       0.66, 0.67, 0.68, 0.69, 0.7 , 0.71, 0.72, 0.73, 0.74, 0.75, 0.76,\n",
       "       0.77, 0.78, 0.79, 0.8 , 0.81, 0.82, 0.83, 0.84, 0.85, 0.86, 0.87,\n",
       "       0.88, 0.89, 0.9 , 0.91, 0.92, 0.93, 0.94, 0.95, 0.96, 0.97, 0.98,\n",
       "       0.99, 1.  ])"
      ]
     },
     "execution_count": 135,
     "metadata": {},
     "output_type": "execute_result"
    }
   ],
   "source": [
    "thresholds = np.arange(0, 1.01, 0.01)\n",
    "thresholds "
   ]
  },
  {
   "cell_type": "code",
   "execution_count": 136,
   "id": "4bcb4419-acae-4b08-90a2-8f511485fef9",
   "metadata": {},
   "outputs": [],
   "source": [
    "# precision = tp / (tp + fp)\n",
    "# recall = tp/(tp + fn)"
   ]
  },
  {
   "cell_type": "code",
   "execution_count": 137,
   "id": "9ee9650d-75f8-405d-a87c-fb4d83f95324",
   "metadata": {
    "scrolled": true
   },
   "outputs": [
    {
     "data": {
      "text/plain": [
       "[(0.0, 1098, 0, 7944, 0),\n",
       " (0.01, 1095, 944, 7000, 3),\n",
       " (0.02, 1090, 2151, 5793, 8),\n",
       " (0.03, 1084, 3116, 4828, 14),\n",
       " (0.04, 1065, 3944, 4000, 33),\n",
       " (0.05, 1048, 4610, 3334, 50),\n",
       " (0.06, 1029, 5131, 2813, 69),\n",
       " (0.07, 1011, 5538, 2406, 87),\n",
       " (0.08, 985, 5839, 2105, 113),\n",
       " (0.09, 965, 6082, 1862, 133),\n",
       " (0.1, 951, 6291, 1653, 147),\n",
       " (0.11, 922, 6455, 1489, 176),\n",
       " (0.12, 897, 6579, 1365, 201),\n",
       " (0.13, 880, 6685, 1259, 218),\n",
       " (0.14, 863, 6793, 1151, 235),\n",
       " (0.15, 846, 6868, 1076, 252),\n",
       " (0.16, 826, 6936, 1008, 272),\n",
       " (0.17, 806, 7001, 943, 292),\n",
       " (0.18, 790, 7075, 869, 308),\n",
       " (0.19, 764, 7147, 797, 334),\n",
       " (0.2, 740, 7189, 755, 358),\n",
       " (0.21, 722, 7249, 695, 376),\n",
       " (0.22, 701, 7292, 652, 397),\n",
       " (0.23, 686, 7326, 618, 412),\n",
       " (0.24, 673, 7360, 584, 425),\n",
       " (0.25, 657, 7390, 554, 441),\n",
       " (0.26, 641, 7416, 528, 457),\n",
       " (0.27, 632, 7436, 508, 466),\n",
       " (0.28, 622, 7475, 469, 476),\n",
       " (0.29, 611, 7499, 445, 487),\n",
       " (0.3, 597, 7525, 419, 501),\n",
       " (0.31, 586, 7543, 401, 512),\n",
       " (0.32, 576, 7559, 385, 522),\n",
       " (0.33, 560, 7575, 369, 538),\n",
       " (0.34, 544, 7598, 346, 554),\n",
       " (0.35000000000000003, 533, 7614, 330, 565),\n",
       " (0.36, 516, 7626, 318, 582),\n",
       " (0.37, 506, 7638, 306, 592),\n",
       " (0.38, 498, 7651, 293, 600),\n",
       " (0.39, 489, 7661, 283, 609),\n",
       " (0.4, 478, 7676, 268, 620),\n",
       " (0.41000000000000003, 472, 7684, 260, 626),\n",
       " (0.42, 464, 7690, 254, 634),\n",
       " (0.43, 452, 7704, 240, 646),\n",
       " (0.44, 442, 7707, 237, 656),\n",
       " (0.45, 430, 7719, 225, 668),\n",
       " (0.46, 419, 7729, 215, 679),\n",
       " (0.47000000000000003, 413, 7738, 206, 685),\n",
       " (0.48, 402, 7744, 200, 696),\n",
       " (0.49, 393, 7748, 196, 705),\n",
       " (0.5, 382, 7754, 190, 716),\n",
       " (0.51, 375, 7760, 184, 723),\n",
       " (0.52, 364, 7768, 176, 734),\n",
       " (0.53, 356, 7772, 172, 742),\n",
       " (0.54, 345, 7777, 167, 753),\n",
       " (0.55, 333, 7779, 165, 765),\n",
       " (0.56, 322, 7790, 154, 776),\n",
       " (0.5700000000000001, 310, 7797, 147, 788),\n",
       " (0.58, 301, 7804, 140, 797),\n",
       " (0.59, 296, 7805, 139, 802),\n",
       " (0.6, 287, 7809, 135, 811),\n",
       " (0.61, 277, 7813, 131, 821),\n",
       " (0.62, 272, 7819, 125, 826),\n",
       " (0.63, 267, 7821, 123, 831),\n",
       " (0.64, 261, 7826, 118, 837),\n",
       " (0.65, 256, 7828, 116, 842),\n",
       " (0.66, 252, 7834, 110, 846),\n",
       " (0.67, 245, 7838, 106, 853),\n",
       " (0.68, 236, 7843, 101, 862),\n",
       " (0.6900000000000001, 232, 7848, 96, 866),\n",
       " (0.7000000000000001, 223, 7851, 93, 875),\n",
       " (0.71, 219, 7855, 89, 879),\n",
       " (0.72, 208, 7861, 83, 890),\n",
       " (0.73, 206, 7863, 81, 892),\n",
       " (0.74, 196, 7869, 75, 902),\n",
       " (0.75, 190, 7872, 72, 908),\n",
       " (0.76, 182, 7873, 71, 916),\n",
       " (0.77, 174, 7876, 68, 924),\n",
       " (0.78, 167, 7880, 64, 931),\n",
       " (0.79, 161, 7883, 61, 937),\n",
       " (0.8, 151, 7885, 59, 947),\n",
       " (0.81, 143, 7888, 56, 955),\n",
       " (0.8200000000000001, 130, 7894, 50, 968),\n",
       " (0.8300000000000001, 123, 7896, 48, 975),\n",
       " (0.84, 112, 7898, 46, 986),\n",
       " (0.85, 104, 7900, 44, 994),\n",
       " (0.86, 99, 7904, 40, 999),\n",
       " (0.87, 89, 7907, 37, 1009),\n",
       " (0.88, 84, 7911, 33, 1014),\n",
       " (0.89, 79, 7919, 25, 1019),\n",
       " (0.9, 68, 7920, 24, 1030),\n",
       " (0.91, 62, 7920, 24, 1036),\n",
       " (0.92, 56, 7921, 23, 1042),\n",
       " (0.93, 48, 7922, 22, 1050),\n",
       " (0.9400000000000001, 43, 7926, 18, 1055),\n",
       " (0.9500000000000001, 36, 7928, 16, 1062),\n",
       " (0.96, 29, 7930, 14, 1069),\n",
       " (0.97, 25, 7933, 11, 1073),\n",
       " (0.98, 18, 7938, 6, 1080),\n",
       " (0.99, 9, 7940, 4, 1089),\n",
       " (1.0, 0, 7944, 0, 1098)]"
      ]
     },
     "execution_count": 137,
     "metadata": {},
     "output_type": "execute_result"
    }
   ],
   "source": [
    "scores = []\n",
    "\n",
    "for t in thresholds:\n",
    "    actual_positive = (y_val == 1)\n",
    "    actual_negative = (y_val == 0)\n",
    " \n",
    "    predict_positive = (y_pred >= t)\n",
    "    predict_negative = (y_pred < t)\n",
    " \n",
    "    tp = (predict_positive & actual_positive).sum()\n",
    "    tn = (predict_negative & actual_negative).sum()\n",
    " \n",
    "    fp = (predict_positive & actual_negative).sum()\n",
    "    fn = (predict_negative & actual_positive).sum()\n",
    " \n",
    "    scores.append((t, tp, tn, fp, fn))\n",
    " \n",
    "scores"
   ]
  },
  {
   "cell_type": "code",
   "execution_count": 138,
   "id": "da756855-2018-4287-9931-1003d548e6cf",
   "metadata": {},
   "outputs": [
    {
     "data": {
      "text/html": [
       "<div>\n",
       "<style scoped>\n",
       "    .dataframe tbody tr th:only-of-type {\n",
       "        vertical-align: middle;\n",
       "    }\n",
       "\n",
       "    .dataframe tbody tr th {\n",
       "        vertical-align: top;\n",
       "    }\n",
       "\n",
       "    .dataframe thead th {\n",
       "        text-align: right;\n",
       "    }\n",
       "</style>\n",
       "<table border=\"1\" class=\"dataframe\">\n",
       "  <thead>\n",
       "    <tr style=\"text-align: right;\">\n",
       "      <th></th>\n",
       "      <th>threshold</th>\n",
       "      <th>tp</th>\n",
       "      <th>tn</th>\n",
       "      <th>fp</th>\n",
       "      <th>fn</th>\n",
       "    </tr>\n",
       "  </thead>\n",
       "  <tbody>\n",
       "    <tr>\n",
       "      <th>0</th>\n",
       "      <td>0.00</td>\n",
       "      <td>1098</td>\n",
       "      <td>0</td>\n",
       "      <td>7944</td>\n",
       "      <td>0</td>\n",
       "    </tr>\n",
       "    <tr>\n",
       "      <th>1</th>\n",
       "      <td>0.01</td>\n",
       "      <td>1095</td>\n",
       "      <td>944</td>\n",
       "      <td>7000</td>\n",
       "      <td>3</td>\n",
       "    </tr>\n",
       "    <tr>\n",
       "      <th>2</th>\n",
       "      <td>0.02</td>\n",
       "      <td>1090</td>\n",
       "      <td>2151</td>\n",
       "      <td>5793</td>\n",
       "      <td>8</td>\n",
       "    </tr>\n",
       "    <tr>\n",
       "      <th>3</th>\n",
       "      <td>0.03</td>\n",
       "      <td>1084</td>\n",
       "      <td>3116</td>\n",
       "      <td>4828</td>\n",
       "      <td>14</td>\n",
       "    </tr>\n",
       "    <tr>\n",
       "      <th>4</th>\n",
       "      <td>0.04</td>\n",
       "      <td>1065</td>\n",
       "      <td>3944</td>\n",
       "      <td>4000</td>\n",
       "      <td>33</td>\n",
       "    </tr>\n",
       "    <tr>\n",
       "      <th>...</th>\n",
       "      <td>...</td>\n",
       "      <td>...</td>\n",
       "      <td>...</td>\n",
       "      <td>...</td>\n",
       "      <td>...</td>\n",
       "    </tr>\n",
       "    <tr>\n",
       "      <th>96</th>\n",
       "      <td>0.96</td>\n",
       "      <td>29</td>\n",
       "      <td>7930</td>\n",
       "      <td>14</td>\n",
       "      <td>1069</td>\n",
       "    </tr>\n",
       "    <tr>\n",
       "      <th>97</th>\n",
       "      <td>0.97</td>\n",
       "      <td>25</td>\n",
       "      <td>7933</td>\n",
       "      <td>11</td>\n",
       "      <td>1073</td>\n",
       "    </tr>\n",
       "    <tr>\n",
       "      <th>98</th>\n",
       "      <td>0.98</td>\n",
       "      <td>18</td>\n",
       "      <td>7938</td>\n",
       "      <td>6</td>\n",
       "      <td>1080</td>\n",
       "    </tr>\n",
       "    <tr>\n",
       "      <th>99</th>\n",
       "      <td>0.99</td>\n",
       "      <td>9</td>\n",
       "      <td>7940</td>\n",
       "      <td>4</td>\n",
       "      <td>1089</td>\n",
       "    </tr>\n",
       "    <tr>\n",
       "      <th>100</th>\n",
       "      <td>1.00</td>\n",
       "      <td>0</td>\n",
       "      <td>7944</td>\n",
       "      <td>0</td>\n",
       "      <td>1098</td>\n",
       "    </tr>\n",
       "  </tbody>\n",
       "</table>\n",
       "<p>101 rows × 5 columns</p>\n",
       "</div>"
      ],
      "text/plain": [
       "     threshold    tp    tn    fp    fn\n",
       "0         0.00  1098     0  7944     0\n",
       "1         0.01  1095   944  7000     3\n",
       "2         0.02  1090  2151  5793     8\n",
       "3         0.03  1084  3116  4828    14\n",
       "4         0.04  1065  3944  4000    33\n",
       "..         ...   ...   ...   ...   ...\n",
       "96        0.96    29  7930    14  1069\n",
       "97        0.97    25  7933    11  1073\n",
       "98        0.98    18  7938     6  1080\n",
       "99        0.99     9  7940     4  1089\n",
       "100       1.00     0  7944     0  1098\n",
       "\n",
       "[101 rows x 5 columns]"
      ]
     },
     "execution_count": 138,
     "metadata": {},
     "output_type": "execute_result"
    }
   ],
   "source": [
    "columns = ['threshold', 'tp', 'tn', 'fp', 'fn']\n",
    "df_scores = pd.DataFrame(scores, columns=columns)\n",
    "df_scores"
   ]
  },
  {
   "cell_type": "code",
   "execution_count": 139,
   "id": "fbadb466-d286-4e75-8e78-d1d7a4f37929",
   "metadata": {},
   "outputs": [],
   "source": [
    "df_scores['precision'] = df_scores.tp / (df_scores.tp + df_scores.fp)\n",
    "df_scores['recall'] = df_scores.fp / (df_scores.tp + df_scores.fn)"
   ]
  },
  {
   "cell_type": "code",
   "execution_count": 140,
   "id": "e02aaa4b-5baa-4cf1-b585-fdb84b74553c",
   "metadata": {},
   "outputs": [
    {
     "data": {
      "text/html": [
       "<div>\n",
       "<style scoped>\n",
       "    .dataframe tbody tr th:only-of-type {\n",
       "        vertical-align: middle;\n",
       "    }\n",
       "\n",
       "    .dataframe tbody tr th {\n",
       "        vertical-align: top;\n",
       "    }\n",
       "\n",
       "    .dataframe thead th {\n",
       "        text-align: right;\n",
       "    }\n",
       "</style>\n",
       "<table border=\"1\" class=\"dataframe\">\n",
       "  <thead>\n",
       "    <tr style=\"text-align: right;\">\n",
       "      <th></th>\n",
       "      <th>threshold</th>\n",
       "      <th>tp</th>\n",
       "      <th>tn</th>\n",
       "      <th>fp</th>\n",
       "      <th>fn</th>\n",
       "      <th>precision</th>\n",
       "      <th>recall</th>\n",
       "    </tr>\n",
       "  </thead>\n",
       "  <tbody>\n",
       "    <tr>\n",
       "      <th>0</th>\n",
       "      <td>0.0</td>\n",
       "      <td>1098</td>\n",
       "      <td>0</td>\n",
       "      <td>7944</td>\n",
       "      <td>0</td>\n",
       "      <td>0.121433</td>\n",
       "      <td>7.234973</td>\n",
       "    </tr>\n",
       "    <tr>\n",
       "      <th>10</th>\n",
       "      <td>0.1</td>\n",
       "      <td>951</td>\n",
       "      <td>6291</td>\n",
       "      <td>1653</td>\n",
       "      <td>147</td>\n",
       "      <td>0.365207</td>\n",
       "      <td>1.505464</td>\n",
       "    </tr>\n",
       "    <tr>\n",
       "      <th>20</th>\n",
       "      <td>0.2</td>\n",
       "      <td>740</td>\n",
       "      <td>7189</td>\n",
       "      <td>755</td>\n",
       "      <td>358</td>\n",
       "      <td>0.494983</td>\n",
       "      <td>0.687614</td>\n",
       "    </tr>\n",
       "    <tr>\n",
       "      <th>30</th>\n",
       "      <td>0.3</td>\n",
       "      <td>597</td>\n",
       "      <td>7525</td>\n",
       "      <td>419</td>\n",
       "      <td>501</td>\n",
       "      <td>0.587598</td>\n",
       "      <td>0.381603</td>\n",
       "    </tr>\n",
       "    <tr>\n",
       "      <th>40</th>\n",
       "      <td>0.4</td>\n",
       "      <td>478</td>\n",
       "      <td>7676</td>\n",
       "      <td>268</td>\n",
       "      <td>620</td>\n",
       "      <td>0.640751</td>\n",
       "      <td>0.244080</td>\n",
       "    </tr>\n",
       "    <tr>\n",
       "      <th>50</th>\n",
       "      <td>0.5</td>\n",
       "      <td>382</td>\n",
       "      <td>7754</td>\n",
       "      <td>190</td>\n",
       "      <td>716</td>\n",
       "      <td>0.667832</td>\n",
       "      <td>0.173042</td>\n",
       "    </tr>\n",
       "    <tr>\n",
       "      <th>60</th>\n",
       "      <td>0.6</td>\n",
       "      <td>287</td>\n",
       "      <td>7809</td>\n",
       "      <td>135</td>\n",
       "      <td>811</td>\n",
       "      <td>0.680095</td>\n",
       "      <td>0.122951</td>\n",
       "    </tr>\n",
       "    <tr>\n",
       "      <th>70</th>\n",
       "      <td>0.7</td>\n",
       "      <td>223</td>\n",
       "      <td>7851</td>\n",
       "      <td>93</td>\n",
       "      <td>875</td>\n",
       "      <td>0.705696</td>\n",
       "      <td>0.084699</td>\n",
       "    </tr>\n",
       "    <tr>\n",
       "      <th>80</th>\n",
       "      <td>0.8</td>\n",
       "      <td>151</td>\n",
       "      <td>7885</td>\n",
       "      <td>59</td>\n",
       "      <td>947</td>\n",
       "      <td>0.719048</td>\n",
       "      <td>0.053734</td>\n",
       "    </tr>\n",
       "    <tr>\n",
       "      <th>90</th>\n",
       "      <td>0.9</td>\n",
       "      <td>68</td>\n",
       "      <td>7920</td>\n",
       "      <td>24</td>\n",
       "      <td>1030</td>\n",
       "      <td>0.739130</td>\n",
       "      <td>0.021858</td>\n",
       "    </tr>\n",
       "    <tr>\n",
       "      <th>100</th>\n",
       "      <td>1.0</td>\n",
       "      <td>0</td>\n",
       "      <td>7944</td>\n",
       "      <td>0</td>\n",
       "      <td>1098</td>\n",
       "      <td>NaN</td>\n",
       "      <td>0.000000</td>\n",
       "    </tr>\n",
       "  </tbody>\n",
       "</table>\n",
       "</div>"
      ],
      "text/plain": [
       "     threshold    tp    tn    fp    fn  precision    recall\n",
       "0          0.0  1098     0  7944     0   0.121433  7.234973\n",
       "10         0.1   951  6291  1653   147   0.365207  1.505464\n",
       "20         0.2   740  7189   755   358   0.494983  0.687614\n",
       "30         0.3   597  7525   419   501   0.587598  0.381603\n",
       "40         0.4   478  7676   268   620   0.640751  0.244080\n",
       "50         0.5   382  7754   190   716   0.667832  0.173042\n",
       "60         0.6   287  7809   135   811   0.680095  0.122951\n",
       "70         0.7   223  7851    93   875   0.705696  0.084699\n",
       "80         0.8   151  7885    59   947   0.719048  0.053734\n",
       "90         0.9    68  7920    24  1030   0.739130  0.021858\n",
       "100        1.0     0  7944     0  1098        NaN  0.000000"
      ]
     },
     "execution_count": 140,
     "metadata": {},
     "output_type": "execute_result"
    }
   ],
   "source": [
    "df_scores[::10]"
   ]
  },
  {
   "cell_type": "code",
   "execution_count": 143,
   "id": "3d0679fa-9e99-47eb-bcb6-31724a038906",
   "metadata": {},
   "outputs": [
    {
     "data": {
      "image/png": "[encoded data removed]",
      "text/plain": [
       "<Figure size 640x480 with 1 Axes>"
      ]
     },
     "metadata": {},
     "output_type": "display_data"
    }
   ],
   "source": [
    "plt.plot(df_scores.threshold, df_scores['recall'], label='Recall')\n",
    "plt.plot(df_scores.threshold, df_scores['precision'], label='Precision')\n",
    "plt.legend();"
   ]
  },
  {
   "cell_type": "markdown",
   "id": "ab506467-5a7d-4a3d-94ff-eb9f06992c2c",
   "metadata": {},
   "source": [
    "### Question 4"
   ]
  },
  {
   "cell_type": "code",
   "execution_count": 145,
   "id": "0dccef5f-d06f-40b0-905e-e3024a6ad610",
   "metadata": {},
   "outputs": [
    {
     "name": "stdout",
     "output_type": "stream",
     "text": [
      "Threshold where precision and recall intersect: 0.24\n"
     ]
    }
   ],
   "source": [
    "import pandas as pd\n",
    "\n",
    "\n",
    "df_scores['diff'] = abs(df_scores['recall'] - df_scores['precision'])\n",
    "\n",
    "min_diff_idx = df_scores['diff'].idxmin()\n",
    "intersection_threshold = df_scores.loc[min_diff_idx, 'threshold']\n",
    "\n",
    "print(f'Threshold where precision and recall intersect: {intersection_threshold}')\n"
   ]
  },
  {
   "cell_type": "code",
   "execution_count": 147,
   "id": "a4bdd97e-9910-4a4c-872f-d35a71a4c964",
   "metadata": {},
   "outputs": [],
   "source": [
    "# f1 = (2*(Precision * Recall))/(Precision + Recall)"
   ]
  },
  {
   "cell_type": "code",
   "execution_count": 148,
   "id": "14f1f3d8-d84b-43d7-9ab6-fd79465d17cc",
   "metadata": {},
   "outputs": [],
   "source": [
    "df_scores['f1'] = (2*(df_scores['precision']*df_scores['recall']))/(df_scores['precision'] + df_scores['recall'])"
   ]
  },
  {
   "cell_type": "code",
   "execution_count": 149,
   "id": "f30e2d7f-19e7-4150-9490-5283d3fe85b7",
   "metadata": {},
   "outputs": [
    {
     "data": {
      "text/html": [
       "<div>\n",
       "<style scoped>\n",
       "    .dataframe tbody tr th:only-of-type {\n",
       "        vertical-align: middle;\n",
       "    }\n",
       "\n",
       "    .dataframe tbody tr th {\n",
       "        vertical-align: top;\n",
       "    }\n",
       "\n",
       "    .dataframe thead th {\n",
       "        text-align: right;\n",
       "    }\n",
       "</style>\n",
       "<table border=\"1\" class=\"dataframe\">\n",
       "  <thead>\n",
       "    <tr style=\"text-align: right;\">\n",
       "      <th></th>\n",
       "      <th>threshold</th>\n",
       "      <th>tp</th>\n",
       "      <th>tn</th>\n",
       "      <th>fp</th>\n",
       "      <th>fn</th>\n",
       "      <th>precision</th>\n",
       "      <th>recall</th>\n",
       "      <th>diff</th>\n",
       "      <th>f1</th>\n",
       "    </tr>\n",
       "  </thead>\n",
       "  <tbody>\n",
       "    <tr>\n",
       "      <th>0</th>\n",
       "      <td>0.0</td>\n",
       "      <td>1098</td>\n",
       "      <td>0</td>\n",
       "      <td>7944</td>\n",
       "      <td>0</td>\n",
       "      <td>0.121433</td>\n",
       "      <td>7.234973</td>\n",
       "      <td>7.113539</td>\n",
       "      <td>0.238858</td>\n",
       "    </tr>\n",
       "    <tr>\n",
       "      <th>10</th>\n",
       "      <td>0.1</td>\n",
       "      <td>951</td>\n",
       "      <td>6291</td>\n",
       "      <td>1653</td>\n",
       "      <td>147</td>\n",
       "      <td>0.365207</td>\n",
       "      <td>1.505464</td>\n",
       "      <td>1.140257</td>\n",
       "      <td>0.587817</td>\n",
       "    </tr>\n",
       "    <tr>\n",
       "      <th>20</th>\n",
       "      <td>0.2</td>\n",
       "      <td>740</td>\n",
       "      <td>7189</td>\n",
       "      <td>755</td>\n",
       "      <td>358</td>\n",
       "      <td>0.494983</td>\n",
       "      <td>0.687614</td>\n",
       "      <td>0.192631</td>\n",
       "      <td>0.575610</td>\n",
       "    </tr>\n",
       "    <tr>\n",
       "      <th>30</th>\n",
       "      <td>0.3</td>\n",
       "      <td>597</td>\n",
       "      <td>7525</td>\n",
       "      <td>419</td>\n",
       "      <td>501</td>\n",
       "      <td>0.587598</td>\n",
       "      <td>0.381603</td>\n",
       "      <td>0.205996</td>\n",
       "      <td>0.462709</td>\n",
       "    </tr>\n",
       "    <tr>\n",
       "      <th>40</th>\n",
       "      <td>0.4</td>\n",
       "      <td>478</td>\n",
       "      <td>7676</td>\n",
       "      <td>268</td>\n",
       "      <td>620</td>\n",
       "      <td>0.640751</td>\n",
       "      <td>0.244080</td>\n",
       "      <td>0.396671</td>\n",
       "      <td>0.353502</td>\n",
       "    </tr>\n",
       "    <tr>\n",
       "      <th>50</th>\n",
       "      <td>0.5</td>\n",
       "      <td>382</td>\n",
       "      <td>7754</td>\n",
       "      <td>190</td>\n",
       "      <td>716</td>\n",
       "      <td>0.667832</td>\n",
       "      <td>0.173042</td>\n",
       "      <td>0.494790</td>\n",
       "      <td>0.274864</td>\n",
       "    </tr>\n",
       "    <tr>\n",
       "      <th>60</th>\n",
       "      <td>0.6</td>\n",
       "      <td>287</td>\n",
       "      <td>7809</td>\n",
       "      <td>135</td>\n",
       "      <td>811</td>\n",
       "      <td>0.680095</td>\n",
       "      <td>0.122951</td>\n",
       "      <td>0.557144</td>\n",
       "      <td>0.208253</td>\n",
       "    </tr>\n",
       "    <tr>\n",
       "      <th>70</th>\n",
       "      <td>0.7</td>\n",
       "      <td>223</td>\n",
       "      <td>7851</td>\n",
       "      <td>93</td>\n",
       "      <td>875</td>\n",
       "      <td>0.705696</td>\n",
       "      <td>0.084699</td>\n",
       "      <td>0.620997</td>\n",
       "      <td>0.151246</td>\n",
       "    </tr>\n",
       "    <tr>\n",
       "      <th>80</th>\n",
       "      <td>0.8</td>\n",
       "      <td>151</td>\n",
       "      <td>7885</td>\n",
       "      <td>59</td>\n",
       "      <td>947</td>\n",
       "      <td>0.719048</td>\n",
       "      <td>0.053734</td>\n",
       "      <td>0.665314</td>\n",
       "      <td>0.099996</td>\n",
       "    </tr>\n",
       "    <tr>\n",
       "      <th>90</th>\n",
       "      <td>0.9</td>\n",
       "      <td>68</td>\n",
       "      <td>7920</td>\n",
       "      <td>24</td>\n",
       "      <td>1030</td>\n",
       "      <td>0.739130</td>\n",
       "      <td>0.021858</td>\n",
       "      <td>0.717273</td>\n",
       "      <td>0.042460</td>\n",
       "    </tr>\n",
       "    <tr>\n",
       "      <th>100</th>\n",
       "      <td>1.0</td>\n",
       "      <td>0</td>\n",
       "      <td>7944</td>\n",
       "      <td>0</td>\n",
       "      <td>1098</td>\n",
       "      <td>NaN</td>\n",
       "      <td>0.000000</td>\n",
       "      <td>NaN</td>\n",
       "      <td>NaN</td>\n",
       "    </tr>\n",
       "  </tbody>\n",
       "</table>\n",
       "</div>"
      ],
      "text/plain": [
       "     threshold    tp    tn    fp    fn  precision    recall      diff  \\\n",
       "0          0.0  1098     0  7944     0   0.121433  7.234973  7.113539   \n",
       "10         0.1   951  6291  1653   147   0.365207  1.505464  1.140257   \n",
       "20         0.2   740  7189   755   358   0.494983  0.687614  0.192631   \n",
       "30         0.3   597  7525   419   501   0.587598  0.381603  0.205996   \n",
       "40         0.4   478  7676   268   620   0.640751  0.244080  0.396671   \n",
       "50         0.5   382  7754   190   716   0.667832  0.173042  0.494790   \n",
       "60         0.6   287  7809   135   811   0.680095  0.122951  0.557144   \n",
       "70         0.7   223  7851    93   875   0.705696  0.084699  0.620997   \n",
       "80         0.8   151  7885    59   947   0.719048  0.053734  0.665314   \n",
       "90         0.9    68  7920    24  1030   0.739130  0.021858  0.717273   \n",
       "100        1.0     0  7944     0  1098        NaN  0.000000       NaN   \n",
       "\n",
       "           f1  \n",
       "0    0.238858  \n",
       "10   0.587817  \n",
       "20   0.575610  \n",
       "30   0.462709  \n",
       "40   0.353502  \n",
       "50   0.274864  \n",
       "60   0.208253  \n",
       "70   0.151246  \n",
       "80   0.099996  \n",
       "90   0.042460  \n",
       "100       NaN  "
      ]
     },
     "execution_count": 149,
     "metadata": {},
     "output_type": "execute_result"
    }
   ],
   "source": [
    "df_scores[::10]"
   ]
  },
  {
   "cell_type": "code",
   "execution_count": 158,
   "id": "a2aecfa3-2156-49c8-8c0b-c5931c43c716",
   "metadata": {},
   "outputs": [
    {
     "data": {
      "text/plain": [
       "0.6083330679477035"
      ]
     },
     "execution_count": 158,
     "metadata": {},
     "output_type": "execute_result"
    }
   ],
   "source": [
    "max_f1 = df_scores.f1.idxmax()\n",
    "max_f1\n",
    "\n",
    "df_scores.f1.max()\n"
   ]
  },
  {
   "cell_type": "code",
   "execution_count": 171,
   "id": "10ceee84-96af-405e-bb2e-5a8ee64ba46c",
   "metadata": {},
   "outputs": [
    {
     "data": {
      "text/plain": [
       "0.14"
      ]
     },
     "execution_count": 171,
     "metadata": {},
     "output_type": "execute_result"
    }
   ],
   "source": [
    "thresh_for_max_f1 = df_scores.loc[max_f1, 'threshold']\n",
    "thresh_for_max_f1"
   ]
  },
  {
   "cell_type": "markdown",
   "id": "6e8b7dea-8687-4296-956e-f27c4bf4c8c0",
   "metadata": {},
   "source": [
    "### Question 5"
   ]
  },
  {
   "cell_type": "code",
   "execution_count": 174,
   "id": "bd0a638e-d2cf-4938-a4b5-f631767e8ae4",
   "metadata": {},
   "outputs": [],
   "source": [
    "from sklearn.model_selection import KFold"
   ]
  },
  {
   "cell_type": "code",
   "execution_count": 176,
   "id": "71251731-af8a-4833-92db-474a6f155c95",
   "metadata": {},
   "outputs": [
    {
     "data": {
      "text/plain": [
       "<generator object _BaseKFold.split at 0x7f34d97879a0>"
      ]
     },
     "execution_count": 176,
     "metadata": {},
     "output_type": "execute_result"
    }
   ],
   "source": [
    "kfold = KFold(n_splits=10, shuffle=True, random_state=1) \n",
    " \n",
    "kfold.split(full_train)"
   ]
  },
  {
   "cell_type": "code",
   "execution_count": 177,
   "id": "40fa7d49-4b19-44fa-a662-93402c199c4b",
   "metadata": {},
   "outputs": [
    {
     "name": "stdout",
     "output_type": "stream",
     "text": [
      "training: 32551,\n",
      "validation: 3617\n"
     ]
    }
   ],
   "source": [
    "train_idx, val_idx = next(kfold.split(full_train))\n",
    "print(f\"training: {len(train_idx)},\\nvalidation: {len(val_idx)}\" )"
   ]
  },
  {
   "cell_type": "code",
   "execution_count": 179,
   "id": "beab8ccc-f6a7-4530-90ee-5e925597725f",
   "metadata": {},
   "outputs": [
    {
     "name": "stdout",
     "output_type": "stream",
     "text": [
      "full train:  36168\n"
     ]
    }
   ],
   "source": [
    "print(\"full train: \",len(full_train))"
   ]
  },
  {
   "cell_type": "code",
   "execution_count": 180,
   "id": "4df532f9-8401-4ec1-af29-155c45b86053",
   "metadata": {},
   "outputs": [],
   "source": [
    "df_train = full_train.iloc[train_idx]\n",
    "df_val = full_train.iloc[val_idx]"
   ]
  },
  {
   "cell_type": "code",
   "execution_count": 183,
   "id": "df6a23ce-4cf2-47e6-a63a-cf97043b3b96",
   "metadata": {},
   "outputs": [
    {
     "data": {
      "text/plain": [
       "[0.8993556310932126,\n",
       " 0.8993206548548723,\n",
       " 0.9112583997605899,\n",
       " 0.9081048228522398,\n",
       " 0.9120491718502978]"
      ]
     },
     "execution_count": 183,
     "metadata": {},
     "output_type": "execute_result"
    }
   ],
   "source": [
    " \n",
    "kfold = KFold(n_splits=5, shuffle=True, random_state=1)  \n",
    "scores = []\n",
    " \n",
    "for train_idx, val_idx in kfold.split(full_train):\n",
    "    df_train = full_train.iloc[train_idx]\n",
    "    df_val = full_train.iloc[val_idx]\n",
    " \n",
    "    y_train = df_train.y.values\n",
    "    y_val = df_val.y.values\n",
    " \n",
    "    dv, model = train(df_train, y_train)\n",
    "    y_pred = predict(df_val, dv, model)\n",
    " \n",
    "    auc = roc_auc_score(y_val, y_pred)\n",
    "    scores.append(auc)\n",
    " \n",
    "scores"
   ]
  },
  {
   "cell_type": "code",
   "execution_count": 184,
   "id": "ebd8e72a-619b-4903-b65b-e6887cf6f70e",
   "metadata": {},
   "outputs": [
    {
     "data": {
      "text/plain": [
       "0.005611296539126669"
      ]
     },
     "execution_count": 184,
     "metadata": {},
     "output_type": "execute_result"
    }
   ],
   "source": [
    "np.std(scores)"
   ]
  },
  {
   "cell_type": "markdown",
   "id": "63ed2b55-2c57-4f23-9959-a9aaa545d2e6",
   "metadata": {},
   "source": [
    "### Question 6"
   ]
  },
  {
   "cell_type": "code",
   "execution_count": 185,
   "id": "dcdff06c-3f82-4109-b5ca-e6508235db5f",
   "metadata": {},
   "outputs": [],
   "source": [
    "def train(df_train, y_train, C=1.0):\n",
    "    dicts = df_train[categorical + numerical].to_dict(orient='records')\n",
    " \n",
    "    dv = DictVectorizer(sparse=False)\n",
    "    X_train = dv.fit_transform(dicts)\n",
    " \n",
    "    model = LogisticRegression(solver = 'liblinear', C=C, max_iter=1000)\n",
    "    model.fit(X_train, y_train)\n",
    " \n",
    "    return dv, model"
   ]
  },
  {
   "cell_type": "code",
   "execution_count": 187,
   "id": "3821f3d4-c2be-4713-ba4d-5aa8897f79f4",
   "metadata": {},
   "outputs": [
    {
     "name": "stdout",
     "output_type": "stream",
     "text": [
      "C=1e-06 0.701 +- 0.009\n",
      "C=0.001 0.861 +- 0.007\n",
      "C=1 0.906 +- 0.006\n"
     ]
    }
   ],
   "source": [
    "kfold = KFold(n_splits=5, shuffle=True, random_state=1)  \n",
    " \n",
    "for C in [0.000001, 0.001, 1]:\n",
    "     \n",
    "    scores = []\n",
    " \n",
    "    for train_idx, val_idx in kfold.split(full_train):\n",
    "        df_train = full_train.iloc[train_idx]\n",
    "        df_val = full_train.iloc[val_idx]\n",
    " \n",
    "        y_train = df_train.y.values\n",
    "        y_val = df_val.y.values\n",
    " \n",
    "        dv, model = train(df_train, y_train, C=C)\n",
    "        y_pred = predict(df_val, dv, model)\n",
    " \n",
    "        auc = roc_auc_score(y_val, y_pred)\n",
    "        scores.append(auc)\n",
    " \n",
    "    print('C=%s %.3f +- %.3f' % (C, np.mean(scores), np.std(scores)))"
   ]
  },
  {
   "cell_type": "code",
   "execution_count": null,
   "id": "773d8711-94ab-422b-9ca8-0bd975440f4d",
   "metadata": {},
   "outputs": [],
   "source": []
  }
 ],
 "metadata": {
  "kernelspec": {
   "display_name": "Python 3 (ipykernel)",
   "language": "python",
   "name": "python3"
  },
  "language_info": {
   "codemirror_mode": {
    "name": "ipython",
    "version": 3
   },
   "file_extension": ".py",
   "mimetype": "text/x-python",
   "name": "python",
   "nbconvert_exporter": "python",
   "pygments_lexer": "ipython3",
   "version": "3.12.3"
  }
 },
 "nbformat": 4,
 "nbformat_minor": 5
}
